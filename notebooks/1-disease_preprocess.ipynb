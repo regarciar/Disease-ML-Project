{
 "cells": [
  {
   "cell_type": "markdown",
   "metadata": {
    "colab_type": "text",
    "id": "Wbepu01LHJoL"
   },
   "source": [
    "# Trabajo Preparacion, visualizacion de Datos y Machine learning con Python<a class=\"tocSkip\">\n",
    "## Ciencia de datos en Produccion <a class=\"tocSkip\">\n",
    "\n",
    "**Estudiante:** Robert Garcia Rey\n",
    "\n",
    "**ID:** 1094905142\n",
    "\n",
    "**Email:** regarciar@unal.edu.co\n",
    "\n",
    " \n",
    "**Ponga su nombre en el archivo de Jupyter Notebook \n",
    "Docente: [Jose R. Zapata](https://joserzapata.github.io)\n",
    "- https://joserzapata.github.io\n",
    "- https://twitter.com/joserzapata\n",
    "- https://www.linkedin.com/in/jose-ricardo-zapata-gonzalez/       \n"
   ]
  },
  {
   "cell_type": "markdown",
   "metadata": {
    "colab_type": "text",
    "id": "s_RCEnM3HJoL",
    "toc": true
   },
   "source": [
    "<h1>Contenido<span class=\"tocSkip\"></span></h1>\n",
    "<div class=\"toc\"><ul class=\"toc-item\"><li><span><a href=\"#Definir-el-Problema-a-Resolver\" data-toc-modified-id=\"Definir-el-Problema-a-Resolver-1\"><span class=\"toc-item-num\">1&nbsp;&nbsp;</span>Definir el Problema a Resolver</a></span><ul class=\"toc-item\"><li><span><a href=\"#Describir-los-datos-de-entrada-y-salida\" data-toc-modified-id=\"Describir-los-datos-de-entrada-y-salida-1.1\"><span class=\"toc-item-num\">1.1&nbsp;&nbsp;</span>Describir los datos de entrada y salida</a></span></li></ul></li><li><span><a href=\"#Importar-Librerias\" data-toc-modified-id=\"Importar-Librerias-2\"><span class=\"toc-item-num\">2&nbsp;&nbsp;</span>Importar Librerias</a></span></li><li><span><a href=\"#Cargar-Datasets\" data-toc-modified-id=\"Cargar-Datasets-3\"><span class=\"toc-item-num\">3&nbsp;&nbsp;</span>Cargar Datasets</a></span></li><li><span><a href=\"#Descripcion--y-Limpieza-de-los-datos\" data-toc-modified-id=\"Descripcion--y-Limpieza-de-los-datos-4\"><span class=\"toc-item-num\">4&nbsp;&nbsp;</span>Descripcion  y Limpieza de los datos</a></span><ul class=\"toc-item\"><li><span><a href=\"#Identificacion-de-Variables\" data-toc-modified-id=\"Identificacion-de-Variables-4.1\"><span class=\"toc-item-num\">4.1&nbsp;&nbsp;</span>Identificacion de Variables</a></span></li><li><span><a href=\"#Analisis-General-Univariable-y-Bivariable\" data-toc-modified-id=\"Analisis-General-Univariable-y-Bivariable-4.2\"><span class=\"toc-item-num\">4.2&nbsp;&nbsp;</span>Analisis General Univariable y Bivariable</a></span></li><li><span><a href=\"#Eliminar-columnas-de-datos-Innecesarios\" data-toc-modified-id=\"Eliminar-columnas-de-datos-Innecesarios-4.3\"><span class=\"toc-item-num\">4.3&nbsp;&nbsp;</span>Eliminar columnas de datos Innecesarios</a></span></li><li><span><a href=\"#Remover-Datos-Duplicados-Exactos\" data-toc-modified-id=\"Remover-Datos-Duplicados-Exactos-4.4\"><span class=\"toc-item-num\">4.4&nbsp;&nbsp;</span>Remover Datos Duplicados Exactos</a></span></li><li><span><a href=\"#Procesamiento-de-Datos-Faltantes\" data-toc-modified-id=\"Procesamiento-de-Datos-Faltantes-4.5\"><span class=\"toc-item-num\">4.5&nbsp;&nbsp;</span>Procesamiento de Datos Faltantes</a></span><ul class=\"toc-item\"><li><span><a href=\"#Borrar-Filas\" data-toc-modified-id=\"Borrar-Filas-4.5.1\"><span class=\"toc-item-num\">4.5.1&nbsp;&nbsp;</span>Borrar Filas</a></span></li><li><span><a href=\"#Reemplazar-datos-faltantes-con-la-Media/-Moda/-Mediana-(Mean/-Mode/-Median-Imputation)\" data-toc-modified-id=\"Reemplazar-datos-faltantes-con-la-Media/-Moda/-Mediana-(Mean/-Mode/-Median-Imputation)-4.5.2\"><span class=\"toc-item-num\">4.5.2&nbsp;&nbsp;</span>Reemplazar datos faltantes con la Media/ Moda/ Mediana (Mean/ Mode/ Median Imputation)</a></span></li></ul></li><li><span><a href=\"#Remover-Datos-Duplicados-Exactos\" data-toc-modified-id=\"Remover-Datos-Duplicados-Exactos-4.6\"><span class=\"toc-item-num\">4.6&nbsp;&nbsp;</span>Remover Datos Duplicados Exactos</a></span></li><li><span><a href=\"#Analisis-Univariable\" data-toc-modified-id=\"Analisis-Univariable-4.7\"><span class=\"toc-item-num\">4.7&nbsp;&nbsp;</span>Analisis Univariable</a></span><ul class=\"toc-item\"><li><span><a href=\"#Variables-Numericas\" data-toc-modified-id=\"Variables-Numericas-4.7.1\"><span class=\"toc-item-num\">4.7.1&nbsp;&nbsp;</span>Variables Numericas</a></span></li><li><span><a href=\"#Variables-Categoricas\" data-toc-modified-id=\"Variables-Categoricas-4.7.2\"><span class=\"toc-item-num\">4.7.2&nbsp;&nbsp;</span>Variables Categoricas</a></span></li></ul></li><li><span><a href=\"#Analisis-Bivariable\" data-toc-modified-id=\"Analisis-Bivariable-4.8\"><span class=\"toc-item-num\">4.8&nbsp;&nbsp;</span>Analisis Bivariable</a></span><ul class=\"toc-item\"><li><span><a href=\"#Numericas-vs-Numericas\" data-toc-modified-id=\"Numericas-vs-Numericas-4.8.1\"><span class=\"toc-item-num\">4.8.1&nbsp;&nbsp;</span>Numericas vs Numericas</a></span></li><li><span><a href=\"#Categoricas-vs-Categoricas\" data-toc-modified-id=\"Categoricas-vs-Categoricas-4.8.2\"><span class=\"toc-item-num\">4.8.2&nbsp;&nbsp;</span>Categoricas vs Categoricas</a></span></li><li><span><a href=\"#Categoricas-vs-Numericas\" data-toc-modified-id=\"Categoricas-vs-Numericas-4.8.3\"><span class=\"toc-item-num\">4.8.3&nbsp;&nbsp;</span>Categoricas vs Numericas</a></span></li></ul></li><li><span><a href=\"#Procesamiento-de-Outliers\" data-toc-modified-id=\"Procesamiento-de-Outliers-4.9\"><span class=\"toc-item-num\">4.9&nbsp;&nbsp;</span>Procesamiento de Outliers</a></span><ul class=\"toc-item\"><li><span><a href=\"#Deteccion-de-Outliers-(Univariables-y-Bi-variables)\" data-toc-modified-id=\"Deteccion-de-Outliers-(Univariables-y-Bi-variables)-4.9.1\"><span class=\"toc-item-num\">4.9.1&nbsp;&nbsp;</span>Deteccion de Outliers (Univariables y Bi variables)</a></span></li><li><span><a href=\"#Remover-Outliers\" data-toc-modified-id=\"Remover-Outliers-4.9.2\"><span class=\"toc-item-num\">4.9.2&nbsp;&nbsp;</span>Remover Outliers</a></span></li></ul></li><li><span><a href=\"#Procesamiento-de-Outliers\" data-toc-modified-id=\"Procesamiento-de-Outliers-4.10\"><span class=\"toc-item-num\">4.10&nbsp;&nbsp;</span>Procesamiento de Outliers</a></span><ul class=\"toc-item\"><li><span><a href=\"#Deteccion-de-Outliers-(Univariables-y-Bi-variables)\" data-toc-modified-id=\"Deteccion-de-Outliers-(Univariables-y-Bi-variables)-4.10.1\"><span class=\"toc-item-num\">4.10.1&nbsp;&nbsp;</span>Deteccion de Outliers (Univariables y Bi variables)</a></span></li><li><span><a href=\"#Remover-Outliers\" data-toc-modified-id=\"Remover-Outliers-4.10.2\"><span class=\"toc-item-num\">4.10.2&nbsp;&nbsp;</span>Remover Outliers</a></span></li></ul></li><li><span><a href=\"#Feature-Engineering\" data-toc-modified-id=\"Feature-Engineering-4.11\"><span class=\"toc-item-num\">4.11&nbsp;&nbsp;</span>Feature Engineering</a></span><ul class=\"toc-item\"><li><span><a href=\"#Transformacion-de-Variables\" data-toc-modified-id=\"Transformacion-de-Variables-4.11.1\"><span class=\"toc-item-num\">4.11.1&nbsp;&nbsp;</span>Transformacion de Variables</a></span><ul class=\"toc-item\"><li><span><a href=\"#Normalizacion\" data-toc-modified-id=\"Normalizacion-4.11.1.1\"><span class=\"toc-item-num\">4.11.1.1&nbsp;&nbsp;</span>Normalizacion</a></span></li><li><span><a href=\"#Escalamiento\" data-toc-modified-id=\"Escalamiento-4.11.1.2\"><span class=\"toc-item-num\">4.11.1.2&nbsp;&nbsp;</span>Escalamiento</a></span></li><li><span><a href=\"#Logaritmica\" data-toc-modified-id=\"Logaritmica-4.11.1.3\"><span class=\"toc-item-num\">4.11.1.3&nbsp;&nbsp;</span>Logaritmica</a></span></li><li><span><a href=\"#raíz-cuadrada-/-cúbica\" data-toc-modified-id=\"raíz-cuadrada-/-cúbica-4.11.1.4\"><span class=\"toc-item-num\">4.11.1.4&nbsp;&nbsp;</span>raíz cuadrada / cúbica</a></span></li><li><span><a href=\"#Binning-,-Cambios-de-Numericas-a-Categoricas\" data-toc-modified-id=\"Binning-,-Cambios-de-Numericas-a-Categoricas-4.11.1.5\"><span class=\"toc-item-num\">4.11.1.5&nbsp;&nbsp;</span>Binning , Cambios de Numericas a Categoricas</a></span></li></ul></li></ul></li><li><span><a href=\"#Analisis-Univariable-y-Bivariable-Final\" data-toc-modified-id=\"Analisis-Univariable-y-Bivariable-Final-4.12\"><span class=\"toc-item-num\">4.12&nbsp;&nbsp;</span>Analisis Univariable y Bivariable Final</a></span><ul class=\"toc-item\"><li><span><a href=\"#Creacion-de-Variables\" data-toc-modified-id=\"Creacion-de-Variables-4.12.1\"><span class=\"toc-item-num\">4.12.1&nbsp;&nbsp;</span>Creacion de Variables</a></span><ul class=\"toc-item\"><li><span><a href=\"#Crear-Variables-derivadas-de-Otras\" data-toc-modified-id=\"Crear-Variables-derivadas-de-Otras-4.12.1.1\"><span class=\"toc-item-num\">4.12.1.1&nbsp;&nbsp;</span>Crear Variables derivadas de Otras</a></span></li><li><span><a href=\"#Crear-Variables-de-Categorico-a-Numerico\" data-toc-modified-id=\"Crear-Variables-de-Categorico-a-Numerico-4.12.1.2\"><span class=\"toc-item-num\">4.12.1.2&nbsp;&nbsp;</span>Crear Variables de Categorico a Numerico</a></span></li></ul></li></ul></li><li><span><a href=\"#Reduccion-de-Dimensionalidad-y-Seleccion-de-Variables-(PCA)\" data-toc-modified-id=\"Reduccion-de-Dimensionalidad-y-Seleccion-de-Variables-(PCA)-4.13\"><span class=\"toc-item-num\">4.13&nbsp;&nbsp;</span>Reduccion de Dimensionalidad y Seleccion de Variables (PCA)</a></span></li><li><span><a href=\"#Balance-de-datos\" data-toc-modified-id=\"Balance-de-datos-4.14\"><span class=\"toc-item-num\">4.14&nbsp;&nbsp;</span>Balance de datos</a></span></li></ul></li><li><span><a href=\"#MODELAMIENTO-DE-LOS-DATOS-(MACHINE-LEARNING)\" data-toc-modified-id=\"MODELAMIENTO-DE-LOS-DATOS-(MACHINE-LEARNING)-5\"><span class=\"toc-item-num\">5&nbsp;&nbsp;</span>MODELAMIENTO DE LOS DATOS (MACHINE LEARNING)</a></span><ul class=\"toc-item\"><li><span><a href=\"#Dividir-el-dataset-en-Training-set-y-Test-set\" data-toc-modified-id=\"Dividir-el-dataset-en-Training-set-y-Test-set-5.1\"><span class=\"toc-item-num\">5.1&nbsp;&nbsp;</span>Dividir el dataset en Training set y Test set</a></span></li></ul></li><li><span><a href=\"#Validacion-y-Evaluacion-Cruzada-(k-fold-Cross-Validation)\" data-toc-modified-id=\"Validacion-y-Evaluacion-Cruzada-(k-fold-Cross-Validation)-6\"><span class=\"toc-item-num\">6&nbsp;&nbsp;</span>Validacion y Evaluacion Cruzada (k-fold Cross Validation)</a></span></li><li><span><a href=\"#Optimizacion-de-Hiper-parametros-(Hyper-Parameter-optimization)\" data-toc-modified-id=\"Optimizacion-de-Hiper-parametros-(Hyper-Parameter-optimization)-7\"><span class=\"toc-item-num\">7&nbsp;&nbsp;</span>Optimizacion de Hiper parametros (Hyper Parameter optimization)</a></span></li><li><span><a href=\"#Evaluacion-final-del-modelo-con-el-Test-set\" data-toc-modified-id=\"Evaluacion-final-del-modelo-con-el-Test-set-8\"><span class=\"toc-item-num\">8&nbsp;&nbsp;</span>Evaluacion final del modelo con el Test set</a></span></li><li><span><a href=\"#Implementacion-del-Modelo-(Deploying)\" data-toc-modified-id=\"Implementacion-del-Modelo-(Deploying)-9\"><span class=\"toc-item-num\">9&nbsp;&nbsp;</span>Implementacion del Modelo (Deploying)</a></span></li><li><span><a href=\"#Comunicacion-de-Resultados-(Data-Story-Telling)\" data-toc-modified-id=\"Comunicacion-de-Resultados-(Data-Story-Telling)-10\"><span class=\"toc-item-num\">10&nbsp;&nbsp;</span>Comunicacion de Resultados (Data Story Telling)</a></span></li><li><span><a href=\"#Conclusiones\" data-toc-modified-id=\"Conclusiones-11\"><span class=\"toc-item-num\">11&nbsp;&nbsp;</span>Conclusiones</a></span></li><li><span><a href=\"#Ayudas-Y-Referencias\" data-toc-modified-id=\"Ayudas-Y-Referencias-12\"><span class=\"toc-item-num\">12&nbsp;&nbsp;</span>Ayudas Y Referencias</a></span></li></ul></div>"
   ]
  },
  {
   "cell_type": "markdown",
   "metadata": {},
   "source": [
    "## Objetivo del Trabajo <a class=\"tocSkip\">\n",
    "El objetivo inicial del trabajo es utilizar Python para el procesamiento, descripcion  y visualización de datos, con el fin de dejar los datos preparados para ser usados con algoritmos de Machine Learning para Regresión o Clasificación como objetivo final del trabajo.\n",
    "\n",
    "El trabajo se realizara en Python usando un jupyter notebook, llenando los campos de este archivo y subirlo a github.\n",
    "\n",
    "## Las actividades a realizar<a class=\"tocSkip\">\n",
    "    \n",
    "    \n",
    "1) Preparar los datos, hacer cada uno de los pasos solo si es necesario:\n",
    "      \n",
    "    - Poner los datos en sus tipos de datos correctos\n",
    "    - Remover los valores duplicados\n",
    "    - Procesar y Reemplazar los datos que faltan (Missing N.A values)\n",
    "    - Manejo de outliers\n",
    "    - Re-escalar las variables\n",
    "    - Normalizar\n",
    "    - Data Binning\n",
    "        - Conversión Numérico a categórico\n",
    "        - Conversión Categórico a Numérico\n",
    "\n",
    "2) Realizar una exploración estadística y con visualización de los datos\n",
    "    - Scatter plots\n",
    "    - Histogramas\n",
    "    - boxplot, o las gráficas que considere necesarias\n",
    "\n",
    "\n",
    "3) Entrene y Evalue modelos de Machine Learning según sea su problema, recuerde usar k-fold cross-validation para evitar over fitting, algunos algoritmos recomendados\n",
    "\n",
    "    (a) PREDICCIÓN:\n",
    "    \n",
    "            ▪ Regresión Lineal\n",
    "            ▪ Lasso\n",
    "            ▪ Ridge\n",
    "            ▪ Decision Tree regressor\n",
    "            ▪ Random Forest regressor\n",
    "            ▪ SVR\n",
    "            ▪ KNR\n",
    "            ▪ catboost regressor\n",
    "            \n",
    "    \n",
    "    \n",
    "    (b) CLASIFICACION\n",
    "      \n",
    "            ▪ Regresión Logística\n",
    "            ▪ LinearSVC\n",
    "            ▪ KernelSVC\n",
    "            ▪ Decision Tree clasifier\n",
    "            ▪ Random Forest classifier\n",
    "            ▪ K-NN\n",
    "            ▪ GaussianNB\n",
    "            ▪ catboost\n",
    "    \n",
    "**Nota: utilizar visualizaciones para comunicar los resultados obtenidos.**    \n",
    "            \n",
    "4) Realizar hyperparameter optimization  de los dos métodos que tengan mejor resultado en los pasos anteriores para mejorar el desempeño obtenido. (Tenga en cuenta, que realizar el hyperparameter tuning no garantiza una mejora significativa en el desempeño, pero es bueno intentarlo)\n",
    "    \n",
    "5) Realizar comentarios de cada paso que va realizando en el documento y finalmente también agregue **conclusiones** de:\n",
    "    \n",
    "    - los datos procesados\n",
    "    - la información que observa\n",
    "    - Comparación de la evaluación de los Métodos\n",
    "    - Cual fue el mejor modelo que obtuvo luego de la hiper parametrización\n",
    "    \n",
    "    \n",
    "*NOTA: No dude en contactarme para cualquier pregunta o inquietud :)\n",
    "\n",
    "## FORMATO DE ENTREGA  <a class=\"tocSkip\">\n",
    "\n",
    "EL jupyter notebook estara alojado en un repositorio de Github\n",
    "\n",
    "El código debe tener comentarios y explicaciones de la solución del trabajo.\n",
    "\n",
    "\n",
    "## EVALUACION <a class=\"tocSkip\">\n",
    "(33 % ) preparacion, descripcion y visualizacion de datos\n",
    "    \n",
    "(33 % ) Machine Learning, hiperparametrizacion y Conclusiones\n",
    "    \n",
    "\n",
    "|Porcentaje en la evaluación | Descripción| Nada | Incompleto | Completo |\n",
    "| :---: |:---: |:---: |:---: |:---: |\n",
    "| 11 % |**Preparación de los datos** <br> (datos nulos, outliers, duplicados, <br> corrección de formatos de tipos de datos) |\n",
    "|11 % | **Visualización de datos** <br> (Univarible y Bivariable) <br> Histogramas, boxplots, correlaciones, etc|\n",
    "|11 % | **Descripción y Análisis Estadístico de los datos** |\n",
    "|11 % | **Machine Learning** <br> Entrenar y evaluar todos los modelos propuestos |\n",
    "|11 % | **Hiper parametrizacion** <br> Hiperparametrizar 2 modelos y escoger el mejor modelo |   \n",
    "|11 % | **Resultados y Conclusiones** <br> analisis de los datos, conclusiones del modelos y los resultados obtenidos|\n",
    "\n",
    "\n",
    "Ejemplos y links de ayuda al final del documento"
   ]
  },
  {
   "cell_type": "markdown",
   "metadata": {
    "colab_type": "text",
    "id": "XE2q_0ARHJoM"
   },
   "source": [
    "# Definir el Problema a Resolver"
   ]
  },
  {
   "cell_type": "markdown",
   "metadata": {},
   "source": [
    "Determinar  automaticamente si un pacciente tiene problemas de corazon basado en los datos de sus examenes."
   ]
  },
  {
   "cell_type": "markdown",
   "metadata": {
    "colab_type": "text",
    "id": "0fWGXusiHJoO"
   },
   "source": [
    "## Describir los datos de entrada y salida\n",
    "- Cantidad de Variables\n",
    "- Tipo de Variables\n",
    "- Significado de cada Variable"
   ]
  },
  {
   "cell_type": "markdown",
   "metadata": {
    "colab_type": "text",
    "id": "MjPWhesSHJoO"
   },
   "source": [
    "# Importar Librerias"
   ]
  },
  {
   "cell_type": "code",
   "execution_count": 51,
   "metadata": {
    "colab": {},
    "colab_type": "code",
    "id": "ksQYJRZTHJoP"
   },
   "outputs": [],
   "source": [
    "import pandas as pd\n",
    "pd.options.plotting.backend = \"plotly\"\n",
    "import numpy as np"
   ]
  },
  {
   "cell_type": "markdown",
   "metadata": {
    "colab_type": "text",
    "id": "LM4dC7lBHJoT"
   },
   "source": [
    "# Cargar Datasets"
   ]
  },
  {
   "cell_type": "code",
   "execution_count": 199,
   "metadata": {
    "colab": {},
    "colab_type": "code",
    "id": "R2C-zrtBHJoT"
   },
   "outputs": [],
   "source": [
    "data_raw = pd.read_csv(\"../data/raw/corazonDS.csv\")"
   ]
  },
  {
   "cell_type": "markdown",
   "metadata": {},
   "source": [
    "# Descripcion General del Dataset\n",
    "- numero de filas y columnas\n",
    "- tipos de datos y si estan correctos"
   ]
  },
  {
   "cell_type": "code",
   "execution_count": 200,
   "metadata": {},
   "outputs": [
    {
     "name": "stdout",
     "output_type": "stream",
     "text": [
      "<class 'pandas.core.frame.DataFrame'>\n",
      "RangeIndex: 90900 entries, 0 to 90899\n",
      "Data columns (total 18 columns):\n",
      " #   Column      Non-Null Count  Dtype \n",
      "---  ------      --------------  ----- \n",
      " 0   Unnamed: 0  90900 non-null  int64 \n",
      " 1   index       90900 non-null  int64 \n",
      " 2   ca          83750 non-null  object\n",
      " 3   exang       84175 non-null  object\n",
      " 4   old_peak    84050 non-null  object\n",
      " 5   lokij       90900 non-null  int64 \n",
      " 6   sex         86400 non-null  object\n",
      " 7   chol        85745 non-null  object\n",
      " 8   rest_ecg    83095 non-null  object\n",
      " 9   thal        84590 non-null  object\n",
      " 10  disease     85225 non-null  object\n",
      " 11  gyuhi       84175 non-null  object\n",
      " 12  rest_bp     86060 non-null  object\n",
      " 13  age         86975 non-null  object\n",
      " 14  max_hr      83615 non-null  object\n",
      " 15  slope       84065 non-null  object\n",
      " 16  chest_pain  85560 non-null  object\n",
      " 17  fbs         85320 non-null  object\n",
      "dtypes: int64(3), object(15)\n",
      "memory usage: 12.5+ MB\n"
     ]
    }
   ],
   "source": [
    "data_raw.info()"
   ]
  },
  {
   "cell_type": "code",
   "execution_count": 201,
   "metadata": {},
   "outputs": [
    {
     "data": {
      "text/html": [
       "<div>\n",
       "<style scoped>\n",
       "    .dataframe tbody tr th:only-of-type {\n",
       "        vertical-align: middle;\n",
       "    }\n",
       "\n",
       "    .dataframe tbody tr th {\n",
       "        vertical-align: top;\n",
       "    }\n",
       "\n",
       "    .dataframe thead th {\n",
       "        text-align: right;\n",
       "    }\n",
       "</style>\n",
       "<table border=\"1\" class=\"dataframe\">\n",
       "  <thead>\n",
       "    <tr style=\"text-align: right;\">\n",
       "      <th></th>\n",
       "      <th>Unnamed: 0</th>\n",
       "      <th>index</th>\n",
       "      <th>ca</th>\n",
       "      <th>exang</th>\n",
       "      <th>old_peak</th>\n",
       "      <th>lokij</th>\n",
       "      <th>sex</th>\n",
       "      <th>chol</th>\n",
       "      <th>rest_ecg</th>\n",
       "      <th>thal</th>\n",
       "      <th>disease</th>\n",
       "      <th>gyuhi</th>\n",
       "      <th>rest_bp</th>\n",
       "      <th>age</th>\n",
       "      <th>max_hr</th>\n",
       "      <th>slope</th>\n",
       "      <th>chest_pain</th>\n",
       "      <th>fbs</th>\n",
       "    </tr>\n",
       "  </thead>\n",
       "  <tbody>\n",
       "    <tr>\n",
       "      <th>0</th>\n",
       "      <td>0</td>\n",
       "      <td>1823</td>\n",
       "      <td>0.0</td>\n",
       "      <td>0</td>\n",
       "      <td>0.8</td>\n",
       "      <td>34567</td>\n",
       "      <td>123654985132</td>\n",
       "      <td>123654985132</td>\n",
       "      <td>normal</td>\n",
       "      <td>normal</td>\n",
       "      <td>123654985132</td>\n",
       "      <td>0</td>\n",
       "      <td>120</td>\n",
       "      <td>56</td>\n",
       "      <td>178</td>\n",
       "      <td>1</td>\n",
       "      <td>nontypical</td>\n",
       "      <td>0.0</td>\n",
       "    </tr>\n",
       "    <tr>\n",
       "      <th>1</th>\n",
       "      <td>1</td>\n",
       "      <td>921</td>\n",
       "      <td>NaN</td>\n",
       "      <td>NaN</td>\n",
       "      <td>NaN</td>\n",
       "      <td>34567</td>\n",
       "      <td>gtyubhjnk 76t38whyu</td>\n",
       "      <td>gtyubhjnk 76t38whyu</td>\n",
       "      <td>NaN</td>\n",
       "      <td>gtyubhjnk 76t38whyu</td>\n",
       "      <td>gtyubhjnk 76t38whyu</td>\n",
       "      <td>NaN</td>\n",
       "      <td>130</td>\n",
       "      <td>56</td>\n",
       "      <td>NaN</td>\n",
       "      <td>NaN</td>\n",
       "      <td>nonanginal</td>\n",
       "      <td>1.0</td>\n",
       "    </tr>\n",
       "    <tr>\n",
       "      <th>2</th>\n",
       "      <td>2</td>\n",
       "      <td>2820</td>\n",
       "      <td>0.0</td>\n",
       "      <td>0</td>\n",
       "      <td>0.6</td>\n",
       "      <td>34567</td>\n",
       "      <td>NaN</td>\n",
       "      <td>141</td>\n",
       "      <td>normal</td>\n",
       "      <td>normal</td>\n",
       "      <td>0</td>\n",
       "      <td>0</td>\n",
       "      <td>NaN</td>\n",
       "      <td>44</td>\n",
       "      <td>175</td>\n",
       "      <td>2</td>\n",
       "      <td>NaN</td>\n",
       "      <td>NaN</td>\n",
       "    </tr>\n",
       "    <tr>\n",
       "      <th>3</th>\n",
       "      <td>3</td>\n",
       "      <td>2299</td>\n",
       "      <td>1.0</td>\n",
       "      <td>0</td>\n",
       "      <td>1.9</td>\n",
       "      <td>34567</td>\n",
       "      <td>Male</td>\n",
       "      <td>315</td>\n",
       "      <td>normal</td>\n",
       "      <td>-365489651984</td>\n",
       "      <td>0</td>\n",
       "      <td>0</td>\n",
       "      <td>130</td>\n",
       "      <td>43</td>\n",
       "      <td>162</td>\n",
       "      <td>1</td>\n",
       "      <td>-365489651984</td>\n",
       "      <td>0.0</td>\n",
       "    </tr>\n",
       "    <tr>\n",
       "      <th>4</th>\n",
       "      <td>4</td>\n",
       "      <td>2239</td>\n",
       "      <td>3.0</td>\n",
       "      <td>1</td>\n",
       "      <td>1.8</td>\n",
       "      <td>34567</td>\n",
       "      <td>Male</td>\n",
       "      <td>330</td>\n",
       "      <td>left ventricular hypertrophy</td>\n",
       "      <td>reversable</td>\n",
       "      <td>1</td>\n",
       "      <td>1</td>\n",
       "      <td>130</td>\n",
       "      <td>NaN</td>\n",
       "      <td>132</td>\n",
       "      <td>NaN</td>\n",
       "      <td>asymptomatic</td>\n",
       "      <td>1.0</td>\n",
       "    </tr>\n",
       "  </tbody>\n",
       "</table>\n",
       "</div>"
      ],
      "text/plain": [
       "   Unnamed: 0  index   ca exang old_peak  lokij                  sex  \\\n",
       "0           0   1823  0.0     0      0.8  34567         123654985132   \n",
       "1           1    921  NaN   NaN      NaN  34567  gtyubhjnk 76t38whyu   \n",
       "2           2   2820  0.0     0      0.6  34567                  NaN   \n",
       "3           3   2299  1.0     0      1.9  34567                 Male   \n",
       "4           4   2239  3.0     1      1.8  34567                 Male   \n",
       "\n",
       "                  chol                       rest_ecg                 thal  \\\n",
       "0         123654985132                         normal               normal   \n",
       "1  gtyubhjnk 76t38whyu                            NaN  gtyubhjnk 76t38whyu   \n",
       "2                  141                         normal               normal   \n",
       "3                  315                         normal        -365489651984   \n",
       "4                  330  left ventricular hypertrophy            reversable   \n",
       "\n",
       "               disease gyuhi rest_bp  age max_hr slope     chest_pain  fbs  \n",
       "0         123654985132     0     120   56    178     1     nontypical  0.0  \n",
       "1  gtyubhjnk 76t38whyu   NaN     130   56    NaN   NaN     nonanginal  1.0  \n",
       "2                    0     0     NaN   44    175     2            NaN  NaN  \n",
       "3                    0     0     130   43    162     1  -365489651984  0.0  \n",
       "4                    1     1     130  NaN    132   NaN   asymptomatic  1.0  "
      ]
     },
     "execution_count": 201,
     "metadata": {},
     "output_type": "execute_result"
    }
   ],
   "source": [
    "data_raw.head()"
   ]
  },
  {
   "cell_type": "markdown",
   "metadata": {},
   "source": [
    "# Limpieza de calidad de datos general"
   ]
  },
  {
   "cell_type": "markdown",
   "metadata": {},
   "source": [
    "- Filas con valores exactamente iguales (duplicados) <br>\n",
    "Se comprueba si el mismo paciente tiene más de un encuentro."
   ]
  },
  {
   "cell_type": "code",
   "execution_count": 202,
   "metadata": {},
   "outputs": [
    {
     "data": {
      "text/plain": [
       "87870"
      ]
     },
     "execution_count": 202,
     "metadata": {},
     "output_type": "execute_result"
    }
   ],
   "source": [
    "data_raw[\"index\"].duplicated().sum()"
   ]
  },
  {
   "cell_type": "markdown",
   "metadata": {},
   "source": [
    "Eliminar pacientes duplicados"
   ]
  },
  {
   "cell_type": "code",
   "execution_count": 203,
   "metadata": {},
   "outputs": [],
   "source": [
    "data_raw.drop_duplicates(subset =\"index\", inplace = True)"
   ]
  },
  {
   "cell_type": "code",
   "execution_count": 204,
   "metadata": {},
   "outputs": [
    {
     "data": {
      "text/plain": [
       "0"
      ]
     },
     "execution_count": 204,
     "metadata": {},
     "output_type": "execute_result"
    }
   ],
   "source": [
    "data_raw[\"index\"].duplicated().sum()"
   ]
  },
  {
   "cell_type": "code",
   "execution_count": 205,
   "metadata": {},
   "outputs": [
    {
     "data": {
      "text/html": [
       "<div>\n",
       "<style scoped>\n",
       "    .dataframe tbody tr th:only-of-type {\n",
       "        vertical-align: middle;\n",
       "    }\n",
       "\n",
       "    .dataframe tbody tr th {\n",
       "        vertical-align: top;\n",
       "    }\n",
       "\n",
       "    .dataframe thead th {\n",
       "        text-align: right;\n",
       "    }\n",
       "</style>\n",
       "<table border=\"1\" class=\"dataframe\">\n",
       "  <thead>\n",
       "    <tr style=\"text-align: right;\">\n",
       "      <th></th>\n",
       "      <th>Unnamed: 0</th>\n",
       "      <th>index</th>\n",
       "      <th>ca</th>\n",
       "      <th>exang</th>\n",
       "      <th>old_peak</th>\n",
       "      <th>lokij</th>\n",
       "      <th>sex</th>\n",
       "      <th>chol</th>\n",
       "      <th>rest_ecg</th>\n",
       "      <th>thal</th>\n",
       "      <th>disease</th>\n",
       "      <th>gyuhi</th>\n",
       "      <th>rest_bp</th>\n",
       "      <th>age</th>\n",
       "      <th>max_hr</th>\n",
       "      <th>slope</th>\n",
       "      <th>chest_pain</th>\n",
       "      <th>fbs</th>\n",
       "    </tr>\n",
       "  </thead>\n",
       "  <tbody>\n",
       "    <tr>\n",
       "      <th>0</th>\n",
       "      <td>0</td>\n",
       "      <td>1823</td>\n",
       "      <td>0.0</td>\n",
       "      <td>0</td>\n",
       "      <td>0.8</td>\n",
       "      <td>34567</td>\n",
       "      <td>123654985132</td>\n",
       "      <td>123654985132</td>\n",
       "      <td>normal</td>\n",
       "      <td>normal</td>\n",
       "      <td>123654985132</td>\n",
       "      <td>0</td>\n",
       "      <td>120</td>\n",
       "      <td>56</td>\n",
       "      <td>178</td>\n",
       "      <td>1</td>\n",
       "      <td>nontypical</td>\n",
       "      <td>0.0</td>\n",
       "    </tr>\n",
       "    <tr>\n",
       "      <th>1</th>\n",
       "      <td>1</td>\n",
       "      <td>921</td>\n",
       "      <td>NaN</td>\n",
       "      <td>NaN</td>\n",
       "      <td>NaN</td>\n",
       "      <td>34567</td>\n",
       "      <td>gtyubhjnk 76t38whyu</td>\n",
       "      <td>gtyubhjnk 76t38whyu</td>\n",
       "      <td>NaN</td>\n",
       "      <td>gtyubhjnk 76t38whyu</td>\n",
       "      <td>gtyubhjnk 76t38whyu</td>\n",
       "      <td>NaN</td>\n",
       "      <td>130</td>\n",
       "      <td>56</td>\n",
       "      <td>NaN</td>\n",
       "      <td>NaN</td>\n",
       "      <td>nonanginal</td>\n",
       "      <td>1.0</td>\n",
       "    </tr>\n",
       "    <tr>\n",
       "      <th>2</th>\n",
       "      <td>2</td>\n",
       "      <td>2820</td>\n",
       "      <td>0.0</td>\n",
       "      <td>0</td>\n",
       "      <td>0.6</td>\n",
       "      <td>34567</td>\n",
       "      <td>NaN</td>\n",
       "      <td>141</td>\n",
       "      <td>normal</td>\n",
       "      <td>normal</td>\n",
       "      <td>0</td>\n",
       "      <td>0</td>\n",
       "      <td>NaN</td>\n",
       "      <td>44</td>\n",
       "      <td>175</td>\n",
       "      <td>2</td>\n",
       "      <td>NaN</td>\n",
       "      <td>NaN</td>\n",
       "    </tr>\n",
       "    <tr>\n",
       "      <th>3</th>\n",
       "      <td>3</td>\n",
       "      <td>2299</td>\n",
       "      <td>1.0</td>\n",
       "      <td>0</td>\n",
       "      <td>1.9</td>\n",
       "      <td>34567</td>\n",
       "      <td>Male</td>\n",
       "      <td>315</td>\n",
       "      <td>normal</td>\n",
       "      <td>-365489651984</td>\n",
       "      <td>0</td>\n",
       "      <td>0</td>\n",
       "      <td>130</td>\n",
       "      <td>43</td>\n",
       "      <td>162</td>\n",
       "      <td>1</td>\n",
       "      <td>-365489651984</td>\n",
       "      <td>0.0</td>\n",
       "    </tr>\n",
       "    <tr>\n",
       "      <th>4</th>\n",
       "      <td>4</td>\n",
       "      <td>2239</td>\n",
       "      <td>3.0</td>\n",
       "      <td>1</td>\n",
       "      <td>1.8</td>\n",
       "      <td>34567</td>\n",
       "      <td>Male</td>\n",
       "      <td>330</td>\n",
       "      <td>left ventricular hypertrophy</td>\n",
       "      <td>reversable</td>\n",
       "      <td>1</td>\n",
       "      <td>1</td>\n",
       "      <td>130</td>\n",
       "      <td>NaN</td>\n",
       "      <td>132</td>\n",
       "      <td>NaN</td>\n",
       "      <td>asymptomatic</td>\n",
       "      <td>1.0</td>\n",
       "    </tr>\n",
       "    <tr>\n",
       "      <th>...</th>\n",
       "      <td>...</td>\n",
       "      <td>...</td>\n",
       "      <td>...</td>\n",
       "      <td>...</td>\n",
       "      <td>...</td>\n",
       "      <td>...</td>\n",
       "      <td>...</td>\n",
       "      <td>...</td>\n",
       "      <td>...</td>\n",
       "      <td>...</td>\n",
       "      <td>...</td>\n",
       "      <td>...</td>\n",
       "      <td>...</td>\n",
       "      <td>...</td>\n",
       "      <td>...</td>\n",
       "      <td>...</td>\n",
       "      <td>...</td>\n",
       "      <td>...</td>\n",
       "    </tr>\n",
       "    <tr>\n",
       "      <th>12031</th>\n",
       "      <td>12031</td>\n",
       "      <td>1479</td>\n",
       "      <td>NaN</td>\n",
       "      <td>NaN</td>\n",
       "      <td>NaN</td>\n",
       "      <td>34567</td>\n",
       "      <td>Male</td>\n",
       "      <td>123654985132</td>\n",
       "      <td>NaN</td>\n",
       "      <td>NaN</td>\n",
       "      <td>1</td>\n",
       "      <td>NaN</td>\n",
       "      <td>123654985132</td>\n",
       "      <td>59</td>\n",
       "      <td>123654985132</td>\n",
       "      <td>NaN</td>\n",
       "      <td>123654985132</td>\n",
       "      <td>1.0</td>\n",
       "    </tr>\n",
       "    <tr>\n",
       "      <th>12383</th>\n",
       "      <td>12383</td>\n",
       "      <td>583</td>\n",
       "      <td>NaN</td>\n",
       "      <td>1</td>\n",
       "      <td>3.0</td>\n",
       "      <td>34567</td>\n",
       "      <td>Male</td>\n",
       "      <td>NaN</td>\n",
       "      <td>normal</td>\n",
       "      <td>reversable</td>\n",
       "      <td>1</td>\n",
       "      <td>1</td>\n",
       "      <td>110</td>\n",
       "      <td>57</td>\n",
       "      <td>143</td>\n",
       "      <td>2</td>\n",
       "      <td>NaN</td>\n",
       "      <td>NaN</td>\n",
       "    </tr>\n",
       "    <tr>\n",
       "      <th>12547</th>\n",
       "      <td>12547</td>\n",
       "      <td>2571</td>\n",
       "      <td>0.0</td>\n",
       "      <td>0</td>\n",
       "      <td>0.0</td>\n",
       "      <td>34567</td>\n",
       "      <td>Male</td>\n",
       "      <td>250</td>\n",
       "      <td>normal</td>\n",
       "      <td>normal</td>\n",
       "      <td>0</td>\n",
       "      <td>0</td>\n",
       "      <td>112</td>\n",
       "      <td>41</td>\n",
       "      <td>179</td>\n",
       "      <td>1</td>\n",
       "      <td>nonanginal</td>\n",
       "      <td>NaN</td>\n",
       "    </tr>\n",
       "    <tr>\n",
       "      <th>12860</th>\n",
       "      <td>12860</td>\n",
       "      <td>2387</td>\n",
       "      <td>0.0</td>\n",
       "      <td>xxxx</td>\n",
       "      <td>1.0</td>\n",
       "      <td>34567</td>\n",
       "      <td>Male</td>\n",
       "      <td>204</td>\n",
       "      <td>normal</td>\n",
       "      <td>NaN</td>\n",
       "      <td>1</td>\n",
       "      <td>xxxx</td>\n",
       "      <td>128</td>\n",
       "      <td>52</td>\n",
       "      <td>156</td>\n",
       "      <td>2</td>\n",
       "      <td>xxxx</td>\n",
       "      <td>1.0</td>\n",
       "    </tr>\n",
       "    <tr>\n",
       "      <th>13549</th>\n",
       "      <td>13549</td>\n",
       "      <td>2606</td>\n",
       "      <td>2.0</td>\n",
       "      <td>0</td>\n",
       "      <td>xxxx</td>\n",
       "      <td>34567</td>\n",
       "      <td>Male</td>\n",
       "      <td>244</td>\n",
       "      <td>left ventricular hypertrophy</td>\n",
       "      <td>xxxx</td>\n",
       "      <td>0</td>\n",
       "      <td>0</td>\n",
       "      <td>148</td>\n",
       "      <td>42</td>\n",
       "      <td>178</td>\n",
       "      <td>1</td>\n",
       "      <td>typical</td>\n",
       "      <td>0.0</td>\n",
       "    </tr>\n",
       "  </tbody>\n",
       "</table>\n",
       "<p>3030 rows × 18 columns</p>\n",
       "</div>"
      ],
      "text/plain": [
       "       Unnamed: 0  index   ca exang old_peak  lokij                  sex  \\\n",
       "0               0   1823  0.0     0      0.8  34567         123654985132   \n",
       "1               1    921  NaN   NaN      NaN  34567  gtyubhjnk 76t38whyu   \n",
       "2               2   2820  0.0     0      0.6  34567                  NaN   \n",
       "3               3   2299  1.0     0      1.9  34567                 Male   \n",
       "4               4   2239  3.0     1      1.8  34567                 Male   \n",
       "...           ...    ...  ...   ...      ...    ...                  ...   \n",
       "12031       12031   1479  NaN   NaN      NaN  34567                 Male   \n",
       "12383       12383    583  NaN     1      3.0  34567                 Male   \n",
       "12547       12547   2571  0.0     0      0.0  34567                 Male   \n",
       "12860       12860   2387  0.0  xxxx      1.0  34567                 Male   \n",
       "13549       13549   2606  2.0     0     xxxx  34567                 Male   \n",
       "\n",
       "                      chol                       rest_ecg  \\\n",
       "0             123654985132                         normal   \n",
       "1      gtyubhjnk 76t38whyu                            NaN   \n",
       "2                      141                         normal   \n",
       "3                      315                         normal   \n",
       "4                      330  left ventricular hypertrophy    \n",
       "...                    ...                            ...   \n",
       "12031         123654985132                            NaN   \n",
       "12383                  NaN                         normal   \n",
       "12547                  250                         normal   \n",
       "12860                  204                         normal   \n",
       "13549                  244  left ventricular hypertrophy    \n",
       "\n",
       "                      thal              disease gyuhi       rest_bp  age  \\\n",
       "0                   normal         123654985132     0           120   56   \n",
       "1      gtyubhjnk 76t38whyu  gtyubhjnk 76t38whyu   NaN           130   56   \n",
       "2                   normal                    0     0           NaN   44   \n",
       "3            -365489651984                    0     0           130   43   \n",
       "4               reversable                    1     1           130  NaN   \n",
       "...                    ...                  ...   ...           ...  ...   \n",
       "12031                  NaN                    1   NaN  123654985132   59   \n",
       "12383           reversable                    1     1           110   57   \n",
       "12547               normal                    0     0           112   41   \n",
       "12860                  NaN                    1  xxxx           128   52   \n",
       "13549                 xxxx                    0     0           148   42   \n",
       "\n",
       "             max_hr slope     chest_pain  fbs  \n",
       "0               178     1     nontypical  0.0  \n",
       "1               NaN   NaN     nonanginal  1.0  \n",
       "2               175     2            NaN  NaN  \n",
       "3               162     1  -365489651984  0.0  \n",
       "4               132   NaN   asymptomatic  1.0  \n",
       "...             ...   ...            ...  ...  \n",
       "12031  123654985132   NaN   123654985132  1.0  \n",
       "12383           143     2            NaN  NaN  \n",
       "12547           179     1     nonanginal  NaN  \n",
       "12860           156     2           xxxx  1.0  \n",
       "13549           178     1        typical  0.0  \n",
       "\n",
       "[3030 rows x 18 columns]"
      ]
     },
     "execution_count": 205,
     "metadata": {},
     "output_type": "execute_result"
    }
   ],
   "source": [
    "data_raw"
   ]
  },
  {
   "cell_type": "markdown",
   "metadata": {},
   "source": [
    "Remover Columnas innecesarias"
   ]
  },
  {
   "cell_type": "code",
   "execution_count": 206,
   "metadata": {},
   "outputs": [],
   "source": [
    "data_raw.drop(['Unnamed: 0','index', 'lokij', 'gyuhi'],axis=1,inplace=True)"
   ]
  },
  {
   "cell_type": "markdown",
   "metadata": {},
   "source": [
    "- Columnas duplicadas después de eliminar columnas innecesarias"
   ]
  },
  {
   "cell_type": "code",
   "execution_count": 207,
   "metadata": {},
   "outputs": [
    {
     "name": "stdout",
     "output_type": "stream",
     "text": [
      "Duplicated data = 296\n"
     ]
    }
   ],
   "source": [
    "print(f\"Duplicated data = {len(data_raw)-len(data_raw.drop_duplicates())}\")"
   ]
  },
  {
   "cell_type": "markdown",
   "metadata": {},
   "source": [
    "- Columnas con valores constantes o sin informacion"
   ]
  },
  {
   "cell_type": "code",
   "execution_count": 208,
   "metadata": {},
   "outputs": [
    {
     "data": {
      "text/html": [
       "<div>\n",
       "<style scoped>\n",
       "    .dataframe tbody tr th:only-of-type {\n",
       "        vertical-align: middle;\n",
       "    }\n",
       "\n",
       "    .dataframe tbody tr th {\n",
       "        vertical-align: top;\n",
       "    }\n",
       "\n",
       "    .dataframe thead th {\n",
       "        text-align: right;\n",
       "    }\n",
       "</style>\n",
       "<table border=\"1\" class=\"dataframe\">\n",
       "  <thead>\n",
       "    <tr style=\"text-align: right;\">\n",
       "      <th></th>\n",
       "      <th>617</th>\n",
       "      <th>3577</th>\n",
       "      <th>611</th>\n",
       "      <th>6210</th>\n",
       "      <th>3782</th>\n",
       "      <th>331</th>\n",
       "      <th>1235</th>\n",
       "      <th>6661</th>\n",
       "      <th>1539</th>\n",
       "      <th>60</th>\n",
       "      <th>3542</th>\n",
       "      <th>3959</th>\n",
       "      <th>1545</th>\n",
       "      <th>3977</th>\n",
       "    </tr>\n",
       "  </thead>\n",
       "  <tbody>\n",
       "    <tr>\n",
       "      <th>ca</th>\n",
       "      <td>0.0</td>\n",
       "      <td>0.0</td>\n",
       "      <td>1.0</td>\n",
       "      <td>0.0</td>\n",
       "      <td>NaN</td>\n",
       "      <td>2.0</td>\n",
       "      <td>0.0</td>\n",
       "      <td>0.0</td>\n",
       "      <td>xxxx</td>\n",
       "      <td>NaN</td>\n",
       "      <td>NaN</td>\n",
       "      <td>0.0</td>\n",
       "      <td>0.0</td>\n",
       "      <td>2.0</td>\n",
       "    </tr>\n",
       "    <tr>\n",
       "      <th>exang</th>\n",
       "      <td>0</td>\n",
       "      <td>1</td>\n",
       "      <td>0</td>\n",
       "      <td>0</td>\n",
       "      <td>NaN</td>\n",
       "      <td>1</td>\n",
       "      <td>1</td>\n",
       "      <td>0</td>\n",
       "      <td>0</td>\n",
       "      <td>gtyubhjnk 76t38whyu</td>\n",
       "      <td>NaN</td>\n",
       "      <td>0</td>\n",
       "      <td>0</td>\n",
       "      <td>123654985132</td>\n",
       "    </tr>\n",
       "    <tr>\n",
       "      <th>old_peak</th>\n",
       "      <td>1.6</td>\n",
       "      <td>0.2</td>\n",
       "      <td>0.1</td>\n",
       "      <td>0.0</td>\n",
       "      <td>NaN</td>\n",
       "      <td>3.0</td>\n",
       "      <td>1.8</td>\n",
       "      <td>0.0</td>\n",
       "      <td>1.2</td>\n",
       "      <td>NaN</td>\n",
       "      <td>NaN</td>\n",
       "      <td>1.2</td>\n",
       "      <td>0.8</td>\n",
       "      <td>0.0</td>\n",
       "    </tr>\n",
       "    <tr>\n",
       "      <th>sex</th>\n",
       "      <td>Male</td>\n",
       "      <td>Female</td>\n",
       "      <td>Male</td>\n",
       "      <td>Male</td>\n",
       "      <td>Male</td>\n",
       "      <td>Male</td>\n",
       "      <td>xxxx</td>\n",
       "      <td>Male</td>\n",
       "      <td>xxxx</td>\n",
       "      <td>Male</td>\n",
       "      <td>NaN</td>\n",
       "      <td>Male</td>\n",
       "      <td>Male</td>\n",
       "      <td>Male</td>\n",
       "    </tr>\n",
       "    <tr>\n",
       "      <th>chol</th>\n",
       "      <td>212</td>\n",
       "      <td>236</td>\n",
       "      <td>234</td>\n",
       "      <td>197</td>\n",
       "      <td>237</td>\n",
       "      <td>259</td>\n",
       "      <td>309</td>\n",
       "      <td>NaN</td>\n",
       "      <td>293</td>\n",
       "      <td>275</td>\n",
       "      <td>NaN</td>\n",
       "      <td>219</td>\n",
       "      <td>212</td>\n",
       "      <td>256</td>\n",
       "    </tr>\n",
       "    <tr>\n",
       "      <th>rest_ecg</th>\n",
       "      <td>gtyubhjnk 76t38whyu</td>\n",
       "      <td>gtyubhjnk 76t38whyu</td>\n",
       "      <td>left ventricular hypertrophy</td>\n",
       "      <td>normal</td>\n",
       "      <td>NaN</td>\n",
       "      <td>left ventricular hypertrophy</td>\n",
       "      <td>xxxx</td>\n",
       "      <td>normal</td>\n",
       "      <td>left ventricular hypertrophy</td>\n",
       "      <td>NaN</td>\n",
       "      <td>NaN</td>\n",
       "      <td>normal</td>\n",
       "      <td>left ventricular hypertrophy</td>\n",
       "      <td>left ventricular hypertrophy</td>\n",
       "    </tr>\n",
       "    <tr>\n",
       "      <th>thal</th>\n",
       "      <td>gtyubhjnk 76t38whyu</td>\n",
       "      <td>normal</td>\n",
       "      <td>normal</td>\n",
       "      <td>-365489651984</td>\n",
       "      <td>NaN</td>\n",
       "      <td>reversable</td>\n",
       "      <td>reversable</td>\n",
       "      <td>normal</td>\n",
       "      <td>xxxx</td>\n",
       "      <td>NaN</td>\n",
       "      <td>123654985132</td>\n",
       "      <td>NaN</td>\n",
       "      <td>reversable</td>\n",
       "      <td>reversable</td>\n",
       "    </tr>\n",
       "    <tr>\n",
       "      <th>disease</th>\n",
       "      <td>gtyubhjnk 76t38whyu</td>\n",
       "      <td>0</td>\n",
       "      <td>0</td>\n",
       "      <td>-365489651984</td>\n",
       "      <td>NaN</td>\n",
       "      <td>1</td>\n",
       "      <td>1</td>\n",
       "      <td>0</td>\n",
       "      <td>xxxx</td>\n",
       "      <td>NaN</td>\n",
       "      <td>NaN</td>\n",
       "      <td>1</td>\n",
       "      <td>1</td>\n",
       "      <td>123654985132</td>\n",
       "    </tr>\n",
       "    <tr>\n",
       "      <th>rest_bp</th>\n",
       "      <td>150</td>\n",
       "      <td>138</td>\n",
       "      <td>160</td>\n",
       "      <td>101</td>\n",
       "      <td>120</td>\n",
       "      <td>xxxx</td>\n",
       "      <td>125</td>\n",
       "      <td>NaN</td>\n",
       "      <td>140</td>\n",
       "      <td>110</td>\n",
       "      <td>NaN</td>\n",
       "      <td>118</td>\n",
       "      <td>152</td>\n",
       "      <td>130</td>\n",
       "    </tr>\n",
       "    <tr>\n",
       "      <th>age</th>\n",
       "      <td>59</td>\n",
       "      <td>gtyubhjnk 76t38whyu</td>\n",
       "      <td>69</td>\n",
       "      <td>46</td>\n",
       "      <td>67</td>\n",
       "      <td>58</td>\n",
       "      <td>64</td>\n",
       "      <td>44</td>\n",
       "      <td>60</td>\n",
       "      <td>47</td>\n",
       "      <td>NaN</td>\n",
       "      <td>NaN</td>\n",
       "      <td>gtyubhjnk 76t38whyu</td>\n",
       "      <td>48</td>\n",
       "    </tr>\n",
       "    <tr>\n",
       "      <th>max_hr</th>\n",
       "      <td>157</td>\n",
       "      <td>152</td>\n",
       "      <td>131</td>\n",
       "      <td>-365489651984</td>\n",
       "      <td>NaN</td>\n",
       "      <td>130</td>\n",
       "      <td>131</td>\n",
       "      <td>NaN</td>\n",
       "      <td>xxxx</td>\n",
       "      <td>NaN</td>\n",
       "      <td>NaN</td>\n",
       "      <td>NaN</td>\n",
       "      <td>150</td>\n",
       "      <td>150</td>\n",
       "    </tr>\n",
       "    <tr>\n",
       "      <th>slope</th>\n",
       "      <td>1</td>\n",
       "      <td>gtyubhjnk 76t38whyu</td>\n",
       "      <td>2</td>\n",
       "      <td>1</td>\n",
       "      <td>NaN</td>\n",
       "      <td>2</td>\n",
       "      <td>2</td>\n",
       "      <td>1</td>\n",
       "      <td>xxxx</td>\n",
       "      <td>NaN</td>\n",
       "      <td>NaN</td>\n",
       "      <td>2</td>\n",
       "      <td>gtyubhjnk 76t38whyu</td>\n",
       "      <td>123654985132</td>\n",
       "    </tr>\n",
       "    <tr>\n",
       "      <th>chest_pain</th>\n",
       "      <td>nonanginal</td>\n",
       "      <td>gtyubhjnk 76t38whyu</td>\n",
       "      <td>typical</td>\n",
       "      <td>nontypical</td>\n",
       "      <td>asymptomatic</td>\n",
       "      <td>xxxx</td>\n",
       "      <td>xxxx</td>\n",
       "      <td>nontypical</td>\n",
       "      <td>asymptomatic</td>\n",
       "      <td>asymptomatic</td>\n",
       "      <td>NaN</td>\n",
       "      <td>asymptomatic</td>\n",
       "      <td>nonanginal</td>\n",
       "      <td>123654985132</td>\n",
       "    </tr>\n",
       "    <tr>\n",
       "      <th>fbs</th>\n",
       "      <td>1.0</td>\n",
       "      <td>0.0</td>\n",
       "      <td>1.0</td>\n",
       "      <td>1.0</td>\n",
       "      <td>0.0</td>\n",
       "      <td>0.0</td>\n",
       "      <td>0.0</td>\n",
       "      <td>0.0</td>\n",
       "      <td>0.0</td>\n",
       "      <td>0.0</td>\n",
       "      <td>NaN</td>\n",
       "      <td>0.0</td>\n",
       "      <td>0.0</td>\n",
       "      <td>1.0</td>\n",
       "    </tr>\n",
       "  </tbody>\n",
       "</table>\n",
       "</div>"
      ],
      "text/plain": [
       "                           617                  3577  \\\n",
       "ca                          0.0                  0.0   \n",
       "exang                         0                    1   \n",
       "old_peak                    1.6                  0.2   \n",
       "sex                        Male               Female   \n",
       "chol                        212                  236   \n",
       "rest_ecg    gtyubhjnk 76t38whyu  gtyubhjnk 76t38whyu   \n",
       "thal        gtyubhjnk 76t38whyu               normal   \n",
       "disease     gtyubhjnk 76t38whyu                    0   \n",
       "rest_bp                     150                  138   \n",
       "age                          59  gtyubhjnk 76t38whyu   \n",
       "max_hr                      157                  152   \n",
       "slope                         1  gtyubhjnk 76t38whyu   \n",
       "chest_pain           nonanginal  gtyubhjnk 76t38whyu   \n",
       "fbs                         1.0                  0.0   \n",
       "\n",
       "                                     611            6210          3782  \\\n",
       "ca                                    1.0            0.0           NaN   \n",
       "exang                                   0              0           NaN   \n",
       "old_peak                              0.1            0.0           NaN   \n",
       "sex                                  Male           Male          Male   \n",
       "chol                                  234            197           237   \n",
       "rest_ecg    left ventricular hypertrophy          normal           NaN   \n",
       "thal                               normal  -365489651984           NaN   \n",
       "disease                                 0  -365489651984           NaN   \n",
       "rest_bp                               160            101           120   \n",
       "age                                    69             46            67   \n",
       "max_hr                                131  -365489651984           NaN   \n",
       "slope                                   2              1           NaN   \n",
       "chest_pain                        typical     nontypical  asymptomatic   \n",
       "fbs                                   1.0            1.0           0.0   \n",
       "\n",
       "                                     331         1235        6661  \\\n",
       "ca                                    2.0         0.0         0.0   \n",
       "exang                                   1           1           0   \n",
       "old_peak                              3.0         1.8         0.0   \n",
       "sex                                  Male        xxxx        Male   \n",
       "chol                                  259         309         NaN   \n",
       "rest_ecg    left ventricular hypertrophy         xxxx      normal   \n",
       "thal                           reversable  reversable      normal   \n",
       "disease                                 1           1           0   \n",
       "rest_bp                              xxxx         125         NaN   \n",
       "age                                    58          64          44   \n",
       "max_hr                                130         131         NaN   \n",
       "slope                                   2           2           1   \n",
       "chest_pain                           xxxx        xxxx  nontypical   \n",
       "fbs                                   0.0         0.0         0.0   \n",
       "\n",
       "                                     1539                 60            3542  \\\n",
       "ca                                   xxxx                  NaN           NaN   \n",
       "exang                                   0  gtyubhjnk 76t38whyu           NaN   \n",
       "old_peak                              1.2                  NaN           NaN   \n",
       "sex                                  xxxx                 Male           NaN   \n",
       "chol                                  293                  275           NaN   \n",
       "rest_ecg    left ventricular hypertrophy                   NaN           NaN   \n",
       "thal                                 xxxx                  NaN  123654985132   \n",
       "disease                              xxxx                  NaN           NaN   \n",
       "rest_bp                               140                  110           NaN   \n",
       "age                                    60                   47           NaN   \n",
       "max_hr                               xxxx                  NaN           NaN   \n",
       "slope                                xxxx                  NaN           NaN   \n",
       "chest_pain                   asymptomatic         asymptomatic           NaN   \n",
       "fbs                                   0.0                  0.0           NaN   \n",
       "\n",
       "                    3959                           1545  \\\n",
       "ca                   0.0                            0.0   \n",
       "exang                  0                              0   \n",
       "old_peak             1.2                            0.8   \n",
       "sex                 Male                           Male   \n",
       "chol                 219                            212   \n",
       "rest_ecg          normal  left ventricular hypertrophy    \n",
       "thal                 NaN                     reversable   \n",
       "disease                1                              1   \n",
       "rest_bp              118                            152   \n",
       "age                  NaN            gtyubhjnk 76t38whyu   \n",
       "max_hr               NaN                            150   \n",
       "slope                  2            gtyubhjnk 76t38whyu   \n",
       "chest_pain  asymptomatic                     nonanginal   \n",
       "fbs                  0.0                            0.0   \n",
       "\n",
       "                                     3977  \n",
       "ca                                    2.0  \n",
       "exang                        123654985132  \n",
       "old_peak                              0.0  \n",
       "sex                                  Male  \n",
       "chol                                  256  \n",
       "rest_ecg    left ventricular hypertrophy   \n",
       "thal                           reversable  \n",
       "disease                      123654985132  \n",
       "rest_bp                               130  \n",
       "age                                    48  \n",
       "max_hr                                150  \n",
       "slope                        123654985132  \n",
       "chest_pain                   123654985132  \n",
       "fbs                                   1.0  "
      ]
     },
     "execution_count": 208,
     "metadata": {},
     "output_type": "execute_result"
    }
   ],
   "source": [
    "data_raw.sample(14).T"
   ]
  },
  {
   "cell_type": "code",
   "execution_count": 209,
   "metadata": {},
   "outputs": [
    {
     "name": "stdout",
     "output_type": "stream",
     "text": [
      "ca = ['0.0' nan '1.0' '3.0' '-365489651984' 'xxxx' '2.0' 'gtyubhjnk 76t38whyu'\n",
      " '123654985132' 'afd']\n",
      "exang = ['0' nan '1' '-365489651984' 'xxxx' 'gtyubhjnk 76t38whyu' '123654985132'\n",
      " 'f' 'adfs']\n",
      "old_peak = ['0.8' nan '0.6' '1.9' '1.8' '-365489651984' '0.0' '2.8' 'xxxx' '1.0'\n",
      " 'gtyubhjnk 76t38whyu' '0.2' '4.0' '2.6' '1.5' '1.2' '6.2' '1.6' '3.2'\n",
      " '123654985132' '2.0' '4.4' '3.4' '0.4' '0.3' '2.3' '1.4' '3.0' '2.5'\n",
      " '0.1' '0.9' '2.4' '2.2' '0.5' '3.6' '4.2' '1.3' '1.1' '2.1' '3.8' '2.9'\n",
      " '0.7' '5.6' '3.1' '3.5' 'asd' 'afd']\n",
      "sex = ['123654985132' 'gtyubhjnk 76t38whyu' nan 'Male' 'Female' 'xxxx'\n",
      " '-365489651984' '45' '2345' '765']\n",
      "chol = ['123654985132' 'gtyubhjnk 76t38whyu' '141' '315' '330' '313' '221' '252'\n",
      " '-365489651984' '319' '304' '225' '182' '149' '263' '175' '283' '274'\n",
      " '289' '256' '180' '227' '284' '206' '223' '213' '187' '321' '234' nan\n",
      " '174' '196' '286' '254' '294' '245' '243' '264' '222' '325' '164' '262'\n",
      " '249' '209' '214' '219' '267' '275' '201' 'xxxx' '326' '318' '247' '303'\n",
      " '229' '261' '233' '305' '235' '308' '177' '244' '226' '257' '341' '335'\n",
      " '186' '394' '269' '220' '203' '302' '228' '255' '230' '282' '241' '204'\n",
      " '211' '200' '353' '248' '300' '192' '342' '239' '288' '197' '278' '265'\n",
      " '185' '340' '215' '216' '293' '258' '268' '217' '198' '270' '271' '166'\n",
      " '236' '281' '205' '409' '417' '207' '276' '212' '240' '322' '232' '208'\n",
      " '242' '246' '183' '199' '309' '299' '231' '273' '250' '218' '259' '184'\n",
      " '188' '260' '253' '290' '266' '210' '295' '126' '327' '237' '407' '306'\n",
      " '311' '298' '176' '167' '360' '157' '169' '277' '178' '564' '160' '131'\n",
      " '168' '193' '195' '224' '307' '172' '354' 'wtey' 'sfdywe']\n",
      "rest_ecg = ['normal' nan 'left ventricular hypertrophy ' 'xxxx' 'gtyubhjnk 76t38whyu'\n",
      " '-365489651984' '123654985132' 'ST-T wave abnormality' '36653' '5678'\n",
      " '435647' '3563']\n",
      "thal = ['normal' 'gtyubhjnk 76t38whyu' '-365489651984' 'reversable' 'xxxx'\n",
      " 'fixed' nan '123654985132' '365635463' '87654']\n",
      "disease = ['123654985132' 'gtyubhjnk 76t38whyu' '0' '1' nan 'gsfdg' '-365489651984'\n",
      " 'xxxx' 'sf' 'fsg' 'fsdg']\n",
      "rest_bp = ['120' '130' nan '140' '135' '158' '136' '170' '118' 'xxxx' '123654985132'\n",
      " '150' 'gtyubhjnk 76t38whyu' '165' '-365489651984' '138' '122' '160' '145'\n",
      " '129' '110' '156' '125' '124' '112' '114' '102' '132' '128' '152' '142'\n",
      " '108' '126' '180' '144' '100' '146' '148' '94' '134' '178' '105' '192'\n",
      " '174' '117' '155' '172' '115' '200' '101' '164' '104' '154' '123' '106'\n",
      " 'fsgh' 'wety']\n",
      "age = ['56' '44' '43' nan '64' '59' '63' '60' '58' '-365489651984' '34' '49'\n",
      " '51' '68' '57' '48' '52' 'gtyubhjnk 76t38whyu' '39' '61' '70' '50' '65'\n",
      " '62' '45' 'xxxx' '123654985132' '42' '54' '47' '41' '38' '66' '55' '74'\n",
      " '71' '35' '69' '37' '67' '29' '53' '77' '46' '40' '76' 'fggfds' 'sdg']\n",
      "max_hr = ['178' nan '175' '162' '132' '133' '164' 'xxxx' '-365489651984' '152'\n",
      " '170' '146' '174' '126' '123' '150' '155' '108' '169' '165' '144' '182'\n",
      " '131' '123654985132' '127' '159' '106' 'gtyubhjnk 76t38whyu' '143' '137'\n",
      " '186' '145' '158' '136' '173' '116' '99' '153' '168' '140' '142' '160'\n",
      " '122' '141' '163' '138' '154' '156' '190' '180' '151' '121' '172' '139'\n",
      " '147' '125' '149' '171' '166' '177' '130' '179' '111' '202' '115' '103'\n",
      " '148' '157' '113' '112' '181' '96' '195' '161' '124' '109' '114' '134'\n",
      " '105' '120' '185' '167' '192' '188' '117' '71' '184' '90' '128' '88'\n",
      " '187' '118' '129' '97' '95' '194' 'adfs']\n",
      "slope = ['1' nan '2' '-365489651984' 'gtyubhjnk 76t38whyu' '3' 'xxxx'\n",
      " '123654985132' 'afd']\n",
      "chest_pain = ['nontypical' 'nonanginal' nan '-365489651984' 'asymptomatic' 'xxxx'\n",
      " 'typical' 'gtyubhjnk 76t38whyu' '123654985132' '2345' '3456']\n",
      "fbs = ['0.0' '1.0' nan 'xxxx' 'gtyubhjnk 76t38whyu' '-365489651984.0'\n",
      " '123654985132.0']\n"
     ]
    }
   ],
   "source": [
    "for col in data_raw:\n",
    "    print(f\"{col} = {data_raw[col].unique()}\")"
   ]
  },
  {
   "cell_type": "markdown",
   "metadata": {},
   "source": [
    "**Análisis**"
   ]
  },
  {
   "cell_type": "markdown",
   "metadata": {},
   "source": [
    "* Todas las columnas tienen los siguientes valores: 'xxxx' 'gtyubhjnk 76t38whyu' '-365489651984.0'\n",
    " '123654985132.0' 'adfs' '-365489651984'<br> Por tanto se procede a reemplazar todos los errores de los datos con valores nan columna por columna"
   ]
  },
  {
   "cell_type": "code",
   "execution_count": 210,
   "metadata": {},
   "outputs": [],
   "source": [
    "data_raw[\"ca\"].replace(['-365489651984', 'xxxx', 'gtyubhjnk 76t38whyu', '123654985132', 'afd'], np.nan, inplace= True)\n",
    "data_raw[\"exang\"].replace(['-365489651984', 'xxxx', 'gtyubhjnk 76t38whyu', '123654985132', 'f', 'afds'], np.nan, inplace= True)\n",
    "data_raw[\"old_peak\"].replace(['-365489651984', 'xxxx', 'gtyubhjnk 76t38whyu', '123654985132', 'asd', 'afd'], np.nan, inplace= True)\n",
    "data_raw[\"sex\"].replace(['-365489651984', 'xxxx', 'gtyubhjnk 76t38whyu', '123654985132', '45', '2345', '765'], np.nan, inplace= True)\n",
    "data_raw[\"chol\"].replace(['-365489651984', 'gtyubhjnk 76t38whyu', '123654985132', 'wtey', 'sfdywe', 'xxxx'], np.nan, inplace= True)\n",
    "data_raw[\"rest_ecg\"].replace(['-365489651984', 'xxxx', 'gtyubhjnk 76t38whyu', '123654985132', '36653', '5678', '435647', '3563'], np.nan, inplace= True)\n",
    "data_raw[\"thal\"].replace(['-365489651984', 'xxxx', 'gtyubhjnk 76t38whyu', '123654985132', '365635463', '87654'], np.nan, inplace= True)\n",
    "data_raw[\"disease\"].replace(['-365489651984', 'xxxx', 'gtyubhjnk 76t38whyu', '123654985132', 'gsfdg', 'sf', 'fsg', 'fsdg'], np.nan, inplace= True)\n",
    "data_raw[\"rest_bp\"].replace(['-365489651984', 'xxxx', 'gtyubhjnk 76t38whyu', '123654985132', 'fsgh', 'wety'], np.nan, inplace= True)\n",
    "data_raw[\"age\"].replace(['-365489651984', 'xxxx', 'gtyubhjnk 76t38whyu', '123654985132', 'fggfds', 'sdg'], np.nan, inplace= True)\n",
    "data_raw[\"max_hr\"].replace(['-365489651984', 'xxxx', 'gtyubhjnk 76t38whyu', '123654985132', 'adfs'], np.nan, inplace= True)\n",
    "data_raw[\"slope\"].replace(['-365489651984', 'xxxx', 'gtyubhjnk 76t38whyu', '123654985132', 'afd'], np.nan, inplace= True)\n",
    "data_raw[\"chest_pain\"].replace(['-365489651984', 'xxxx', 'gtyubhjnk 76t38whyu', '123654985132', '2345', '3456'], np.nan, inplace= True)\n",
    "data_raw[\"fbs\"].replace(['xxxx', 'gtyubhjnk 76t38whyu', '-365489651984.0', '123654985132.0'], np.nan, inplace= True)\n"
   ]
  },
  {
   "cell_type": "code",
   "execution_count": 211,
   "metadata": {},
   "outputs": [
    {
     "name": "stdout",
     "output_type": "stream",
     "text": [
      "ca = ['0.0' nan '1.0' '3.0' '2.0']\n",
      "exang = ['0' nan '1' 'adfs']\n",
      "old_peak = ['0.8' nan '0.6' '1.9' '1.8' '0.0' '2.8' '1.0' '0.2' '4.0' '2.6' '1.5'\n",
      " '1.2' '6.2' '1.6' '3.2' '2.0' '4.4' '3.4' '0.4' '0.3' '2.3' '1.4' '3.0'\n",
      " '2.5' '0.1' '0.9' '2.4' '2.2' '0.5' '3.6' '4.2' '1.3' '1.1' '2.1' '3.8'\n",
      " '2.9' '0.7' '5.6' '3.1' '3.5']\n",
      "sex = [nan 'Male' 'Female']\n",
      "chol = [nan '141' '315' '330' '313' '221' '252' '319' '304' '225' '182' '149'\n",
      " '263' '175' '283' '274' '289' '256' '180' '227' '284' '206' '223' '213'\n",
      " '187' '321' '234' '174' '196' '286' '254' '294' '245' '243' '264' '222'\n",
      " '325' '164' '262' '249' '209' '214' '219' '267' '275' '201' '326' '318'\n",
      " '247' '303' '229' '261' '233' '305' '235' '308' '177' '244' '226' '257'\n",
      " '341' '335' '186' '394' '269' '220' '203' '302' '228' '255' '230' '282'\n",
      " '241' '204' '211' '200' '353' '248' '300' '192' '342' '239' '288' '197'\n",
      " '278' '265' '185' '340' '215' '216' '293' '258' '268' '217' '198' '270'\n",
      " '271' '166' '236' '281' '205' '409' '417' '207' '276' '212' '240' '322'\n",
      " '232' '208' '242' '246' '183' '199' '309' '299' '231' '273' '250' '218'\n",
      " '259' '184' '188' '260' '253' '290' '266' '210' '295' '126' '327' '237'\n",
      " '407' '306' '311' '298' '176' '167' '360' '157' '169' '277' '178' '564'\n",
      " '160' '131' '168' '193' '195' '224' '307' '172' '354']\n",
      "rest_ecg = ['normal' nan 'left ventricular hypertrophy ' 'ST-T wave abnormality']\n",
      "thal = ['normal' nan 'reversable' 'fixed']\n",
      "disease = [nan '0' '1']\n",
      "rest_bp = ['120' '130' nan '140' '135' '158' '136' '170' '118' '150' '165' '138'\n",
      " '122' '160' '145' '129' '110' '156' '125' '124' '112' '114' '102' '132'\n",
      " '128' '152' '142' '108' '126' '180' '144' '100' '146' '148' '94' '134'\n",
      " '178' '105' '192' '174' '117' '155' '172' '115' '200' '101' '164' '104'\n",
      " '154' '123' '106']\n",
      "age = ['56' '44' '43' nan '64' '59' '63' '60' '58' '34' '49' '51' '68' '57' '48'\n",
      " '52' '39' '61' '70' '50' '65' '62' '45' '42' '54' '47' '41' '38' '66'\n",
      " '55' '74' '71' '35' '69' '37' '67' '29' '53' '77' '46' '40' '76']\n",
      "max_hr = ['178' nan '175' '162' '132' '133' '164' '152' '170' '146' '174' '126'\n",
      " '123' '150' '155' '108' '169' '165' '144' '182' '131' '127' '159' '106'\n",
      " '143' '137' '186' '145' '158' '136' '173' '116' '99' '153' '168' '140'\n",
      " '142' '160' '122' '141' '163' '138' '154' '156' '190' '180' '151' '121'\n",
      " '172' '139' '147' '125' '149' '171' '166' '177' '130' '179' '111' '202'\n",
      " '115' '103' '148' '157' '113' '112' '181' '96' '195' '161' '124' '109'\n",
      " '114' '134' '105' '120' '185' '167' '192' '188' '117' '71' '184' '90'\n",
      " '128' '88' '187' '118' '129' '97' '95' '194']\n",
      "slope = ['1' nan '2' '3']\n",
      "chest_pain = ['nontypical' 'nonanginal' nan 'asymptomatic' 'typical']\n",
      "fbs = ['0.0' '1.0' nan]\n"
     ]
    }
   ],
   "source": [
    "for col in data_raw:\n",
    "    print(f\"{col} = {data_raw[col].unique()}\")"
   ]
  },
  {
   "cell_type": "code",
   "execution_count": 212,
   "metadata": {},
   "outputs": [
    {
     "data": {
      "text/html": [
       "<div>\n",
       "<style scoped>\n",
       "    .dataframe tbody tr th:only-of-type {\n",
       "        vertical-align: middle;\n",
       "    }\n",
       "\n",
       "    .dataframe tbody tr th {\n",
       "        vertical-align: top;\n",
       "    }\n",
       "\n",
       "    .dataframe thead th {\n",
       "        text-align: right;\n",
       "    }\n",
       "</style>\n",
       "<table border=\"1\" class=\"dataframe\">\n",
       "  <thead>\n",
       "    <tr style=\"text-align: right;\">\n",
       "      <th></th>\n",
       "      <th>ca</th>\n",
       "      <th>exang</th>\n",
       "      <th>old_peak</th>\n",
       "      <th>sex</th>\n",
       "      <th>chol</th>\n",
       "      <th>rest_ecg</th>\n",
       "      <th>thal</th>\n",
       "      <th>disease</th>\n",
       "      <th>rest_bp</th>\n",
       "      <th>age</th>\n",
       "      <th>max_hr</th>\n",
       "      <th>slope</th>\n",
       "      <th>chest_pain</th>\n",
       "      <th>fbs</th>\n",
       "    </tr>\n",
       "  </thead>\n",
       "  <tbody>\n",
       "    <tr>\n",
       "      <th>0</th>\n",
       "      <td>0.0</td>\n",
       "      <td>0</td>\n",
       "      <td>0.8</td>\n",
       "      <td>NaN</td>\n",
       "      <td>NaN</td>\n",
       "      <td>normal</td>\n",
       "      <td>normal</td>\n",
       "      <td>NaN</td>\n",
       "      <td>120</td>\n",
       "      <td>56</td>\n",
       "      <td>178</td>\n",
       "      <td>1</td>\n",
       "      <td>nontypical</td>\n",
       "      <td>0.0</td>\n",
       "    </tr>\n",
       "    <tr>\n",
       "      <th>1</th>\n",
       "      <td>NaN</td>\n",
       "      <td>NaN</td>\n",
       "      <td>NaN</td>\n",
       "      <td>NaN</td>\n",
       "      <td>NaN</td>\n",
       "      <td>NaN</td>\n",
       "      <td>NaN</td>\n",
       "      <td>NaN</td>\n",
       "      <td>130</td>\n",
       "      <td>56</td>\n",
       "      <td>NaN</td>\n",
       "      <td>NaN</td>\n",
       "      <td>nonanginal</td>\n",
       "      <td>1.0</td>\n",
       "    </tr>\n",
       "    <tr>\n",
       "      <th>2</th>\n",
       "      <td>0.0</td>\n",
       "      <td>0</td>\n",
       "      <td>0.6</td>\n",
       "      <td>NaN</td>\n",
       "      <td>141</td>\n",
       "      <td>normal</td>\n",
       "      <td>normal</td>\n",
       "      <td>0</td>\n",
       "      <td>NaN</td>\n",
       "      <td>44</td>\n",
       "      <td>175</td>\n",
       "      <td>2</td>\n",
       "      <td>NaN</td>\n",
       "      <td>NaN</td>\n",
       "    </tr>\n",
       "    <tr>\n",
       "      <th>3</th>\n",
       "      <td>1.0</td>\n",
       "      <td>0</td>\n",
       "      <td>1.9</td>\n",
       "      <td>Male</td>\n",
       "      <td>315</td>\n",
       "      <td>normal</td>\n",
       "      <td>NaN</td>\n",
       "      <td>0</td>\n",
       "      <td>130</td>\n",
       "      <td>43</td>\n",
       "      <td>162</td>\n",
       "      <td>1</td>\n",
       "      <td>NaN</td>\n",
       "      <td>0.0</td>\n",
       "    </tr>\n",
       "    <tr>\n",
       "      <th>4</th>\n",
       "      <td>3.0</td>\n",
       "      <td>1</td>\n",
       "      <td>1.8</td>\n",
       "      <td>Male</td>\n",
       "      <td>330</td>\n",
       "      <td>left ventricular hypertrophy</td>\n",
       "      <td>reversable</td>\n",
       "      <td>1</td>\n",
       "      <td>130</td>\n",
       "      <td>NaN</td>\n",
       "      <td>132</td>\n",
       "      <td>NaN</td>\n",
       "      <td>asymptomatic</td>\n",
       "      <td>1.0</td>\n",
       "    </tr>\n",
       "    <tr>\n",
       "      <th>...</th>\n",
       "      <td>...</td>\n",
       "      <td>...</td>\n",
       "      <td>...</td>\n",
       "      <td>...</td>\n",
       "      <td>...</td>\n",
       "      <td>...</td>\n",
       "      <td>...</td>\n",
       "      <td>...</td>\n",
       "      <td>...</td>\n",
       "      <td>...</td>\n",
       "      <td>...</td>\n",
       "      <td>...</td>\n",
       "      <td>...</td>\n",
       "      <td>...</td>\n",
       "    </tr>\n",
       "    <tr>\n",
       "      <th>12031</th>\n",
       "      <td>NaN</td>\n",
       "      <td>NaN</td>\n",
       "      <td>NaN</td>\n",
       "      <td>Male</td>\n",
       "      <td>NaN</td>\n",
       "      <td>NaN</td>\n",
       "      <td>NaN</td>\n",
       "      <td>1</td>\n",
       "      <td>NaN</td>\n",
       "      <td>59</td>\n",
       "      <td>NaN</td>\n",
       "      <td>NaN</td>\n",
       "      <td>NaN</td>\n",
       "      <td>1.0</td>\n",
       "    </tr>\n",
       "    <tr>\n",
       "      <th>12383</th>\n",
       "      <td>NaN</td>\n",
       "      <td>1</td>\n",
       "      <td>3.0</td>\n",
       "      <td>Male</td>\n",
       "      <td>NaN</td>\n",
       "      <td>normal</td>\n",
       "      <td>reversable</td>\n",
       "      <td>1</td>\n",
       "      <td>110</td>\n",
       "      <td>57</td>\n",
       "      <td>143</td>\n",
       "      <td>2</td>\n",
       "      <td>NaN</td>\n",
       "      <td>NaN</td>\n",
       "    </tr>\n",
       "    <tr>\n",
       "      <th>12547</th>\n",
       "      <td>0.0</td>\n",
       "      <td>0</td>\n",
       "      <td>0.0</td>\n",
       "      <td>Male</td>\n",
       "      <td>250</td>\n",
       "      <td>normal</td>\n",
       "      <td>normal</td>\n",
       "      <td>0</td>\n",
       "      <td>112</td>\n",
       "      <td>41</td>\n",
       "      <td>179</td>\n",
       "      <td>1</td>\n",
       "      <td>nonanginal</td>\n",
       "      <td>NaN</td>\n",
       "    </tr>\n",
       "    <tr>\n",
       "      <th>12860</th>\n",
       "      <td>0.0</td>\n",
       "      <td>NaN</td>\n",
       "      <td>1.0</td>\n",
       "      <td>Male</td>\n",
       "      <td>204</td>\n",
       "      <td>normal</td>\n",
       "      <td>NaN</td>\n",
       "      <td>1</td>\n",
       "      <td>128</td>\n",
       "      <td>52</td>\n",
       "      <td>156</td>\n",
       "      <td>2</td>\n",
       "      <td>NaN</td>\n",
       "      <td>1.0</td>\n",
       "    </tr>\n",
       "    <tr>\n",
       "      <th>13549</th>\n",
       "      <td>2.0</td>\n",
       "      <td>0</td>\n",
       "      <td>NaN</td>\n",
       "      <td>Male</td>\n",
       "      <td>244</td>\n",
       "      <td>left ventricular hypertrophy</td>\n",
       "      <td>NaN</td>\n",
       "      <td>0</td>\n",
       "      <td>148</td>\n",
       "      <td>42</td>\n",
       "      <td>178</td>\n",
       "      <td>1</td>\n",
       "      <td>typical</td>\n",
       "      <td>0.0</td>\n",
       "    </tr>\n",
       "  </tbody>\n",
       "</table>\n",
       "<p>3030 rows × 14 columns</p>\n",
       "</div>"
      ],
      "text/plain": [
       "        ca exang old_peak   sex chol                       rest_ecg  \\\n",
       "0      0.0     0      0.8   NaN  NaN                         normal   \n",
       "1      NaN   NaN      NaN   NaN  NaN                            NaN   \n",
       "2      0.0     0      0.6   NaN  141                         normal   \n",
       "3      1.0     0      1.9  Male  315                         normal   \n",
       "4      3.0     1      1.8  Male  330  left ventricular hypertrophy    \n",
       "...    ...   ...      ...   ...  ...                            ...   \n",
       "12031  NaN   NaN      NaN  Male  NaN                            NaN   \n",
       "12383  NaN     1      3.0  Male  NaN                         normal   \n",
       "12547  0.0     0      0.0  Male  250                         normal   \n",
       "12860  0.0   NaN      1.0  Male  204                         normal   \n",
       "13549  2.0     0      NaN  Male  244  left ventricular hypertrophy    \n",
       "\n",
       "             thal disease rest_bp  age max_hr slope    chest_pain  fbs  \n",
       "0          normal     NaN     120   56    178     1    nontypical  0.0  \n",
       "1             NaN     NaN     130   56    NaN   NaN    nonanginal  1.0  \n",
       "2          normal       0     NaN   44    175     2           NaN  NaN  \n",
       "3             NaN       0     130   43    162     1           NaN  0.0  \n",
       "4      reversable       1     130  NaN    132   NaN  asymptomatic  1.0  \n",
       "...           ...     ...     ...  ...    ...   ...           ...  ...  \n",
       "12031         NaN       1     NaN   59    NaN   NaN           NaN  1.0  \n",
       "12383  reversable       1     110   57    143     2           NaN  NaN  \n",
       "12547      normal       0     112   41    179     1    nonanginal  NaN  \n",
       "12860         NaN       1     128   52    156     2           NaN  1.0  \n",
       "13549         NaN       0     148   42    178     1       typical  0.0  \n",
       "\n",
       "[3030 rows x 14 columns]"
      ]
     },
     "execution_count": 212,
     "metadata": {},
     "output_type": "execute_result"
    }
   ],
   "source": [
    "data_raw"
   ]
  },
  {
   "cell_type": "code",
   "execution_count": 213,
   "metadata": {},
   "outputs": [
    {
     "data": {
      "application/vnd.plotly.v1+json": {
       "config": {
        "plotlyServerURL": "https://plot.ly"
       },
       "data": [
        {
         "alignmentgroup": "True",
         "hovertemplate": "color=ca<br>index=%{x}<br>value=%{y}<extra></extra>",
         "legendgroup": "ca",
         "marker": {
          "color": "#636efa",
          "pattern": {
           "shape": ""
          }
         },
         "name": "ca",
         "offsetgroup": "ca",
         "orientation": "v",
         "showlegend": true,
         "textposition": "auto",
         "type": "bar",
         "x": [
          "ca"
         ],
         "xaxis": "x",
         "y": [
          22.442244224422442
         ],
         "yaxis": "y"
        },
        {
         "alignmentgroup": "True",
         "hovertemplate": "color=exang<br>index=%{x}<br>value=%{y}<extra></extra>",
         "legendgroup": "exang",
         "marker": {
          "color": "#EF553B",
          "pattern": {
           "shape": ""
          }
         },
         "name": "exang",
         "offsetgroup": "exang",
         "orientation": "v",
         "showlegend": true,
         "textposition": "auto",
         "type": "bar",
         "x": [
          "exang"
         ],
         "xaxis": "x",
         "y": [
          20.56105610561056
         ],
         "yaxis": "y"
        },
        {
         "alignmentgroup": "True",
         "hovertemplate": "color=old_peak<br>index=%{x}<br>value=%{y}<extra></extra>",
         "legendgroup": "old_peak",
         "marker": {
          "color": "#00cc96",
          "pattern": {
           "shape": ""
          }
         },
         "name": "old_peak",
         "offsetgroup": "old_peak",
         "orientation": "v",
         "showlegend": true,
         "textposition": "auto",
         "type": "bar",
         "x": [
          "old_peak"
         ],
         "xaxis": "x",
         "y": [
          20.594059405940595
         ],
         "yaxis": "y"
        },
        {
         "alignmentgroup": "True",
         "hovertemplate": "color=sex<br>index=%{x}<br>value=%{y}<extra></extra>",
         "legendgroup": "sex",
         "marker": {
          "color": "#ab63fa",
          "pattern": {
           "shape": ""
          }
         },
         "name": "sex",
         "offsetgroup": "sex",
         "orientation": "v",
         "showlegend": true,
         "textposition": "auto",
         "type": "bar",
         "x": [
          "sex"
         ],
         "xaxis": "x",
         "y": [
          18.81188118811881
         ],
         "yaxis": "y"
        },
        {
         "alignmentgroup": "True",
         "hovertemplate": "color=chol<br>index=%{x}<br>value=%{y}<extra></extra>",
         "legendgroup": "chol",
         "marker": {
          "color": "#FFA15A",
          "pattern": {
           "shape": ""
          }
         },
         "name": "chol",
         "offsetgroup": "chol",
         "orientation": "v",
         "showlegend": true,
         "textposition": "auto",
         "type": "bar",
         "x": [
          "chol"
         ],
         "xaxis": "x",
         "y": [
          17.194719471947195
         ],
         "yaxis": "y"
        },
        {
         "alignmentgroup": "True",
         "hovertemplate": "color=rest_ecg<br>index=%{x}<br>value=%{y}<extra></extra>",
         "legendgroup": "rest_ecg",
         "marker": {
          "color": "#19d3f3",
          "pattern": {
           "shape": ""
          }
         },
         "name": "rest_ecg",
         "offsetgroup": "rest_ecg",
         "orientation": "v",
         "showlegend": true,
         "textposition": "auto",
         "type": "bar",
         "x": [
          "rest_ecg"
         ],
         "xaxis": "x",
         "y": [
          21.45214521452145
         ],
         "yaxis": "y"
        },
        {
         "alignmentgroup": "True",
         "hovertemplate": "color=thal<br>index=%{x}<br>value=%{y}<extra></extra>",
         "legendgroup": "thal",
         "marker": {
          "color": "#FF6692",
          "pattern": {
           "shape": ""
          }
         },
         "name": "thal",
         "offsetgroup": "thal",
         "orientation": "v",
         "showlegend": true,
         "textposition": "auto",
         "type": "bar",
         "x": [
          "thal"
         ],
         "xaxis": "x",
         "y": [
          20.693069306930692
         ],
         "yaxis": "y"
        },
        {
         "alignmentgroup": "True",
         "hovertemplate": "color=disease<br>index=%{x}<br>value=%{y}<extra></extra>",
         "legendgroup": "disease",
         "marker": {
          "color": "#B6E880",
          "pattern": {
           "shape": ""
          }
         },
         "name": "disease",
         "offsetgroup": "disease",
         "orientation": "v",
         "showlegend": true,
         "textposition": "auto",
         "type": "bar",
         "x": [
          "disease"
         ],
         "xaxis": "x",
         "y": [
          20.42904290429043
         ],
         "yaxis": "y"
        },
        {
         "alignmentgroup": "True",
         "hovertemplate": "color=rest_bp<br>index=%{x}<br>value=%{y}<extra></extra>",
         "legendgroup": "rest_bp",
         "marker": {
          "color": "#FF97FF",
          "pattern": {
           "shape": ""
          }
         },
         "name": "rest_bp",
         "offsetgroup": "rest_bp",
         "orientation": "v",
         "showlegend": true,
         "textposition": "auto",
         "type": "bar",
         "x": [
          "rest_bp"
         ],
         "xaxis": "x",
         "y": [
          18.778877887788777
         ],
         "yaxis": "y"
        },
        {
         "alignmentgroup": "True",
         "hovertemplate": "color=age<br>index=%{x}<br>value=%{y}<extra></extra>",
         "legendgroup": "age",
         "marker": {
          "color": "#FECB52",
          "pattern": {
           "shape": ""
          }
         },
         "name": "age",
         "offsetgroup": "age",
         "orientation": "v",
         "showlegend": true,
         "textposition": "auto",
         "type": "bar",
         "x": [
          "age"
         ],
         "xaxis": "x",
         "y": [
          18.316831683168317
         ],
         "yaxis": "y"
        },
        {
         "alignmentgroup": "True",
         "hovertemplate": "color=max_hr<br>index=%{x}<br>value=%{y}<extra></extra>",
         "legendgroup": "max_hr",
         "marker": {
          "color": "#636efa",
          "pattern": {
           "shape": ""
          }
         },
         "name": "max_hr",
         "offsetgroup": "max_hr",
         "orientation": "v",
         "showlegend": true,
         "textposition": "auto",
         "type": "bar",
         "x": [
          "max_hr"
         ],
         "xaxis": "x",
         "y": [
          22.739273927392738
         ],
         "yaxis": "y"
        },
        {
         "alignmentgroup": "True",
         "hovertemplate": "color=slope<br>index=%{x}<br>value=%{y}<extra></extra>",
         "legendgroup": "slope",
         "marker": {
          "color": "#EF553B",
          "pattern": {
           "shape": ""
          }
         },
         "name": "slope",
         "offsetgroup": "slope",
         "orientation": "v",
         "showlegend": true,
         "textposition": "auto",
         "type": "bar",
         "x": [
          "slope"
         ],
         "xaxis": "x",
         "y": [
          21.419141914191417
         ],
         "yaxis": "y"
        },
        {
         "alignmentgroup": "True",
         "hovertemplate": "color=chest_pain<br>index=%{x}<br>value=%{y}<extra></extra>",
         "legendgroup": "chest_pain",
         "marker": {
          "color": "#00cc96",
          "pattern": {
           "shape": ""
          }
         },
         "name": "chest_pain",
         "offsetgroup": "chest_pain",
         "orientation": "v",
         "showlegend": true,
         "textposition": "auto",
         "type": "bar",
         "x": [
          "chest_pain"
         ],
         "xaxis": "x",
         "y": [
          19.66996699669967
         ],
         "yaxis": "y"
        },
        {
         "alignmentgroup": "True",
         "hovertemplate": "color=fbs<br>index=%{x}<br>value=%{y}<extra></extra>",
         "legendgroup": "fbs",
         "marker": {
          "color": "#ab63fa",
          "pattern": {
           "shape": ""
          }
         },
         "name": "fbs",
         "offsetgroup": "fbs",
         "orientation": "v",
         "showlegend": true,
         "textposition": "auto",
         "type": "bar",
         "x": [
          "fbs"
         ],
         "xaxis": "x",
         "y": [
          19.66996699669967
         ],
         "yaxis": "y"
        }
       ],
       "layout": {
        "barmode": "relative",
        "legend": {
         "title": {
          "text": "color"
         },
         "tracegroupgap": 0
        },
        "template": {
         "data": {
          "bar": [
           {
            "error_x": {
             "color": "#2a3f5f"
            },
            "error_y": {
             "color": "#2a3f5f"
            },
            "marker": {
             "line": {
              "color": "#E5ECF6",
              "width": 0.5
             },
             "pattern": {
              "fillmode": "overlay",
              "size": 10,
              "solidity": 0.2
             }
            },
            "type": "bar"
           }
          ],
          "barpolar": [
           {
            "marker": {
             "line": {
              "color": "#E5ECF6",
              "width": 0.5
             },
             "pattern": {
              "fillmode": "overlay",
              "size": 10,
              "solidity": 0.2
             }
            },
            "type": "barpolar"
           }
          ],
          "carpet": [
           {
            "aaxis": {
             "endlinecolor": "#2a3f5f",
             "gridcolor": "white",
             "linecolor": "white",
             "minorgridcolor": "white",
             "startlinecolor": "#2a3f5f"
            },
            "baxis": {
             "endlinecolor": "#2a3f5f",
             "gridcolor": "white",
             "linecolor": "white",
             "minorgridcolor": "white",
             "startlinecolor": "#2a3f5f"
            },
            "type": "carpet"
           }
          ],
          "choropleth": [
           {
            "colorbar": {
             "outlinewidth": 0,
             "ticks": ""
            },
            "type": "choropleth"
           }
          ],
          "contour": [
           {
            "colorbar": {
             "outlinewidth": 0,
             "ticks": ""
            },
            "colorscale": [
             [
              0,
              "#0d0887"
             ],
             [
              0.1111111111111111,
              "#46039f"
             ],
             [
              0.2222222222222222,
              "#7201a8"
             ],
             [
              0.3333333333333333,
              "#9c179e"
             ],
             [
              0.4444444444444444,
              "#bd3786"
             ],
             [
              0.5555555555555556,
              "#d8576b"
             ],
             [
              0.6666666666666666,
              "#ed7953"
             ],
             [
              0.7777777777777778,
              "#fb9f3a"
             ],
             [
              0.8888888888888888,
              "#fdca26"
             ],
             [
              1,
              "#f0f921"
             ]
            ],
            "type": "contour"
           }
          ],
          "contourcarpet": [
           {
            "colorbar": {
             "outlinewidth": 0,
             "ticks": ""
            },
            "type": "contourcarpet"
           }
          ],
          "heatmap": [
           {
            "colorbar": {
             "outlinewidth": 0,
             "ticks": ""
            },
            "colorscale": [
             [
              0,
              "#0d0887"
             ],
             [
              0.1111111111111111,
              "#46039f"
             ],
             [
              0.2222222222222222,
              "#7201a8"
             ],
             [
              0.3333333333333333,
              "#9c179e"
             ],
             [
              0.4444444444444444,
              "#bd3786"
             ],
             [
              0.5555555555555556,
              "#d8576b"
             ],
             [
              0.6666666666666666,
              "#ed7953"
             ],
             [
              0.7777777777777778,
              "#fb9f3a"
             ],
             [
              0.8888888888888888,
              "#fdca26"
             ],
             [
              1,
              "#f0f921"
             ]
            ],
            "type": "heatmap"
           }
          ],
          "heatmapgl": [
           {
            "colorbar": {
             "outlinewidth": 0,
             "ticks": ""
            },
            "colorscale": [
             [
              0,
              "#0d0887"
             ],
             [
              0.1111111111111111,
              "#46039f"
             ],
             [
              0.2222222222222222,
              "#7201a8"
             ],
             [
              0.3333333333333333,
              "#9c179e"
             ],
             [
              0.4444444444444444,
              "#bd3786"
             ],
             [
              0.5555555555555556,
              "#d8576b"
             ],
             [
              0.6666666666666666,
              "#ed7953"
             ],
             [
              0.7777777777777778,
              "#fb9f3a"
             ],
             [
              0.8888888888888888,
              "#fdca26"
             ],
             [
              1,
              "#f0f921"
             ]
            ],
            "type": "heatmapgl"
           }
          ],
          "histogram": [
           {
            "marker": {
             "pattern": {
              "fillmode": "overlay",
              "size": 10,
              "solidity": 0.2
             }
            },
            "type": "histogram"
           }
          ],
          "histogram2d": [
           {
            "colorbar": {
             "outlinewidth": 0,
             "ticks": ""
            },
            "colorscale": [
             [
              0,
              "#0d0887"
             ],
             [
              0.1111111111111111,
              "#46039f"
             ],
             [
              0.2222222222222222,
              "#7201a8"
             ],
             [
              0.3333333333333333,
              "#9c179e"
             ],
             [
              0.4444444444444444,
              "#bd3786"
             ],
             [
              0.5555555555555556,
              "#d8576b"
             ],
             [
              0.6666666666666666,
              "#ed7953"
             ],
             [
              0.7777777777777778,
              "#fb9f3a"
             ],
             [
              0.8888888888888888,
              "#fdca26"
             ],
             [
              1,
              "#f0f921"
             ]
            ],
            "type": "histogram2d"
           }
          ],
          "histogram2dcontour": [
           {
            "colorbar": {
             "outlinewidth": 0,
             "ticks": ""
            },
            "colorscale": [
             [
              0,
              "#0d0887"
             ],
             [
              0.1111111111111111,
              "#46039f"
             ],
             [
              0.2222222222222222,
              "#7201a8"
             ],
             [
              0.3333333333333333,
              "#9c179e"
             ],
             [
              0.4444444444444444,
              "#bd3786"
             ],
             [
              0.5555555555555556,
              "#d8576b"
             ],
             [
              0.6666666666666666,
              "#ed7953"
             ],
             [
              0.7777777777777778,
              "#fb9f3a"
             ],
             [
              0.8888888888888888,
              "#fdca26"
             ],
             [
              1,
              "#f0f921"
             ]
            ],
            "type": "histogram2dcontour"
           }
          ],
          "mesh3d": [
           {
            "colorbar": {
             "outlinewidth": 0,
             "ticks": ""
            },
            "type": "mesh3d"
           }
          ],
          "parcoords": [
           {
            "line": {
             "colorbar": {
              "outlinewidth": 0,
              "ticks": ""
             }
            },
            "type": "parcoords"
           }
          ],
          "pie": [
           {
            "automargin": true,
            "type": "pie"
           }
          ],
          "scatter": [
           {
            "fillpattern": {
             "fillmode": "overlay",
             "size": 10,
             "solidity": 0.2
            },
            "type": "scatter"
           }
          ],
          "scatter3d": [
           {
            "line": {
             "colorbar": {
              "outlinewidth": 0,
              "ticks": ""
             }
            },
            "marker": {
             "colorbar": {
              "outlinewidth": 0,
              "ticks": ""
             }
            },
            "type": "scatter3d"
           }
          ],
          "scattercarpet": [
           {
            "marker": {
             "colorbar": {
              "outlinewidth": 0,
              "ticks": ""
             }
            },
            "type": "scattercarpet"
           }
          ],
          "scattergeo": [
           {
            "marker": {
             "colorbar": {
              "outlinewidth": 0,
              "ticks": ""
             }
            },
            "type": "scattergeo"
           }
          ],
          "scattergl": [
           {
            "marker": {
             "colorbar": {
              "outlinewidth": 0,
              "ticks": ""
             }
            },
            "type": "scattergl"
           }
          ],
          "scattermapbox": [
           {
            "marker": {
             "colorbar": {
              "outlinewidth": 0,
              "ticks": ""
             }
            },
            "type": "scattermapbox"
           }
          ],
          "scatterpolar": [
           {
            "marker": {
             "colorbar": {
              "outlinewidth": 0,
              "ticks": ""
             }
            },
            "type": "scatterpolar"
           }
          ],
          "scatterpolargl": [
           {
            "marker": {
             "colorbar": {
              "outlinewidth": 0,
              "ticks": ""
             }
            },
            "type": "scatterpolargl"
           }
          ],
          "scatterternary": [
           {
            "marker": {
             "colorbar": {
              "outlinewidth": 0,
              "ticks": ""
             }
            },
            "type": "scatterternary"
           }
          ],
          "surface": [
           {
            "colorbar": {
             "outlinewidth": 0,
             "ticks": ""
            },
            "colorscale": [
             [
              0,
              "#0d0887"
             ],
             [
              0.1111111111111111,
              "#46039f"
             ],
             [
              0.2222222222222222,
              "#7201a8"
             ],
             [
              0.3333333333333333,
              "#9c179e"
             ],
             [
              0.4444444444444444,
              "#bd3786"
             ],
             [
              0.5555555555555556,
              "#d8576b"
             ],
             [
              0.6666666666666666,
              "#ed7953"
             ],
             [
              0.7777777777777778,
              "#fb9f3a"
             ],
             [
              0.8888888888888888,
              "#fdca26"
             ],
             [
              1,
              "#f0f921"
             ]
            ],
            "type": "surface"
           }
          ],
          "table": [
           {
            "cells": {
             "fill": {
              "color": "#EBF0F8"
             },
             "line": {
              "color": "white"
             }
            },
            "header": {
             "fill": {
              "color": "#C8D4E3"
             },
             "line": {
              "color": "white"
             }
            },
            "type": "table"
           }
          ]
         },
         "layout": {
          "annotationdefaults": {
           "arrowcolor": "#2a3f5f",
           "arrowhead": 0,
           "arrowwidth": 1
          },
          "autotypenumbers": "strict",
          "coloraxis": {
           "colorbar": {
            "outlinewidth": 0,
            "ticks": ""
           }
          },
          "colorscale": {
           "diverging": [
            [
             0,
             "#8e0152"
            ],
            [
             0.1,
             "#c51b7d"
            ],
            [
             0.2,
             "#de77ae"
            ],
            [
             0.3,
             "#f1b6da"
            ],
            [
             0.4,
             "#fde0ef"
            ],
            [
             0.5,
             "#f7f7f7"
            ],
            [
             0.6,
             "#e6f5d0"
            ],
            [
             0.7,
             "#b8e186"
            ],
            [
             0.8,
             "#7fbc41"
            ],
            [
             0.9,
             "#4d9221"
            ],
            [
             1,
             "#276419"
            ]
           ],
           "sequential": [
            [
             0,
             "#0d0887"
            ],
            [
             0.1111111111111111,
             "#46039f"
            ],
            [
             0.2222222222222222,
             "#7201a8"
            ],
            [
             0.3333333333333333,
             "#9c179e"
            ],
            [
             0.4444444444444444,
             "#bd3786"
            ],
            [
             0.5555555555555556,
             "#d8576b"
            ],
            [
             0.6666666666666666,
             "#ed7953"
            ],
            [
             0.7777777777777778,
             "#fb9f3a"
            ],
            [
             0.8888888888888888,
             "#fdca26"
            ],
            [
             1,
             "#f0f921"
            ]
           ],
           "sequentialminus": [
            [
             0,
             "#0d0887"
            ],
            [
             0.1111111111111111,
             "#46039f"
            ],
            [
             0.2222222222222222,
             "#7201a8"
            ],
            [
             0.3333333333333333,
             "#9c179e"
            ],
            [
             0.4444444444444444,
             "#bd3786"
            ],
            [
             0.5555555555555556,
             "#d8576b"
            ],
            [
             0.6666666666666666,
             "#ed7953"
            ],
            [
             0.7777777777777778,
             "#fb9f3a"
            ],
            [
             0.8888888888888888,
             "#fdca26"
            ],
            [
             1,
             "#f0f921"
            ]
           ]
          },
          "colorway": [
           "#636efa",
           "#EF553B",
           "#00cc96",
           "#ab63fa",
           "#FFA15A",
           "#19d3f3",
           "#FF6692",
           "#B6E880",
           "#FF97FF",
           "#FECB52"
          ],
          "font": {
           "color": "#2a3f5f"
          },
          "geo": {
           "bgcolor": "white",
           "lakecolor": "white",
           "landcolor": "#E5ECF6",
           "showlakes": true,
           "showland": true,
           "subunitcolor": "white"
          },
          "hoverlabel": {
           "align": "left"
          },
          "hovermode": "closest",
          "mapbox": {
           "style": "light"
          },
          "paper_bgcolor": "white",
          "plot_bgcolor": "#E5ECF6",
          "polar": {
           "angularaxis": {
            "gridcolor": "white",
            "linecolor": "white",
            "ticks": ""
           },
           "bgcolor": "#E5ECF6",
           "radialaxis": {
            "gridcolor": "white",
            "linecolor": "white",
            "ticks": ""
           }
          },
          "scene": {
           "xaxis": {
            "backgroundcolor": "#E5ECF6",
            "gridcolor": "white",
            "gridwidth": 2,
            "linecolor": "white",
            "showbackground": true,
            "ticks": "",
            "zerolinecolor": "white"
           },
           "yaxis": {
            "backgroundcolor": "#E5ECF6",
            "gridcolor": "white",
            "gridwidth": 2,
            "linecolor": "white",
            "showbackground": true,
            "ticks": "",
            "zerolinecolor": "white"
           },
           "zaxis": {
            "backgroundcolor": "#E5ECF6",
            "gridcolor": "white",
            "gridwidth": 2,
            "linecolor": "white",
            "showbackground": true,
            "ticks": "",
            "zerolinecolor": "white"
           }
          },
          "shapedefaults": {
           "line": {
            "color": "#2a3f5f"
           }
          },
          "ternary": {
           "aaxis": {
            "gridcolor": "white",
            "linecolor": "white",
            "ticks": ""
           },
           "baxis": {
            "gridcolor": "white",
            "linecolor": "white",
            "ticks": ""
           },
           "bgcolor": "#E5ECF6",
           "caxis": {
            "gridcolor": "white",
            "linecolor": "white",
            "ticks": ""
           }
          },
          "title": {
           "x": 0.05
          },
          "xaxis": {
           "automargin": true,
           "gridcolor": "white",
           "linecolor": "white",
           "ticks": "",
           "title": {
            "standoff": 15
           },
           "zerolinecolor": "white",
           "zerolinewidth": 2
          },
          "yaxis": {
           "automargin": true,
           "gridcolor": "white",
           "linecolor": "white",
           "ticks": "",
           "title": {
            "standoff": 15
           },
           "zerolinecolor": "white",
           "zerolinewidth": 2
          }
         }
        },
        "title": {
         "text": "Percentage of Missing Values per column"
        },
        "xaxis": {
         "anchor": "y",
         "domain": [
          0,
          1
         ],
         "title": {
          "text": "index"
         }
        },
        "yaxis": {
         "anchor": "x",
         "domain": [
          0,
          1
         ],
         "title": {
          "text": "value"
         }
        }
       }
      }
     },
     "metadata": {},
     "output_type": "display_data"
    }
   ],
   "source": [
    "(data_raw.isnull().sum()*100/len(data_raw)).plot.bar(title = 'Percentage of Missing Values per column',color=data_raw.columns)"
   ]
  },
  {
   "cell_type": "code",
   "execution_count": 214,
   "metadata": {},
   "outputs": [
    {
     "data": {
      "text/plain": [
       "ca            22.442244\n",
       "exang         20.561056\n",
       "old_peak      20.594059\n",
       "sex           18.811881\n",
       "chol          17.194719\n",
       "rest_ecg      21.452145\n",
       "thal          20.693069\n",
       "disease       20.429043\n",
       "rest_bp       18.778878\n",
       "age           18.316832\n",
       "max_hr        22.739274\n",
       "slope         21.419142\n",
       "chest_pain    19.669967\n",
       "fbs           19.669967\n",
       "dtype: float64"
      ]
     },
     "execution_count": 214,
     "metadata": {},
     "output_type": "execute_result"
    }
   ],
   "source": [
    "missing = data_raw.isnull().sum()\n",
    "missing[missing>0]*100/len(data_raw)"
   ]
  },
  {
   "cell_type": "code",
   "execution_count": 215,
   "metadata": {},
   "outputs": [
    {
     "data": {
      "text/plain": [
       "ca            680\n",
       "exang         623\n",
       "old_peak      624\n",
       "sex           570\n",
       "chol          521\n",
       "rest_ecg      650\n",
       "thal          627\n",
       "disease       619\n",
       "rest_bp       569\n",
       "age           555\n",
       "max_hr        689\n",
       "slope         649\n",
       "chest_pain    596\n",
       "fbs           596\n",
       "dtype: int64"
      ]
     },
     "execution_count": 215,
     "metadata": {},
     "output_type": "execute_result"
    }
   ],
   "source": [
    "data_raw.isnull().sum()"
   ]
  },
  {
   "cell_type": "code",
   "execution_count": 216,
   "metadata": {},
   "outputs": [
    {
     "name": "stdout",
     "output_type": "stream",
     "text": [
      "<class 'pandas.core.frame.DataFrame'>\n",
      "Int64Index: 3030 entries, 0 to 13549\n",
      "Data columns (total 14 columns):\n",
      " #   Column      Non-Null Count  Dtype \n",
      "---  ------      --------------  ----- \n",
      " 0   ca          2350 non-null   object\n",
      " 1   exang       2407 non-null   object\n",
      " 2   old_peak    2406 non-null   object\n",
      " 3   sex         2460 non-null   object\n",
      " 4   chol        2509 non-null   object\n",
      " 5   rest_ecg    2380 non-null   object\n",
      " 6   thal        2403 non-null   object\n",
      " 7   disease     2411 non-null   object\n",
      " 8   rest_bp     2461 non-null   object\n",
      " 9   age         2475 non-null   object\n",
      " 10  max_hr      2341 non-null   object\n",
      " 11  slope       2381 non-null   object\n",
      " 12  chest_pain  2434 non-null   object\n",
      " 13  fbs         2434 non-null   object\n",
      "dtypes: object(14)\n",
      "memory usage: 355.1+ KB\n"
     ]
    }
   ],
   "source": [
    "data_raw.info()"
   ]
  },
  {
   "cell_type": "code",
   "execution_count": 217,
   "metadata": {},
   "outputs": [],
   "source": [
    "data_raw.dropna(inplace=True)\n",
    "data_raw.reset_index(drop=True, inplace=True)"
   ]
  },
  {
   "cell_type": "code",
   "execution_count": 218,
   "metadata": {},
   "outputs": [
    {
     "data": {
      "text/plain": [
       "ca            0\n",
       "exang         0\n",
       "old_peak      0\n",
       "sex           0\n",
       "chol          0\n",
       "rest_ecg      0\n",
       "thal          0\n",
       "disease       0\n",
       "rest_bp       0\n",
       "age           0\n",
       "max_hr        0\n",
       "slope         0\n",
       "chest_pain    0\n",
       "fbs           0\n",
       "dtype: int64"
      ]
     },
     "execution_count": 218,
     "metadata": {},
     "output_type": "execute_result"
    }
   ],
   "source": [
    "data_raw.isnull().sum()"
   ]
  },
  {
   "cell_type": "code",
   "execution_count": 219,
   "metadata": {},
   "outputs": [
    {
     "name": "stdout",
     "output_type": "stream",
     "text": [
      "<class 'pandas.core.frame.DataFrame'>\n",
      "RangeIndex: 542 entries, 0 to 541\n",
      "Data columns (total 14 columns):\n",
      " #   Column      Non-Null Count  Dtype \n",
      "---  ------      --------------  ----- \n",
      " 0   ca          542 non-null    object\n",
      " 1   exang       542 non-null    object\n",
      " 2   old_peak    542 non-null    object\n",
      " 3   sex         542 non-null    object\n",
      " 4   chol        542 non-null    object\n",
      " 5   rest_ecg    542 non-null    object\n",
      " 6   thal        542 non-null    object\n",
      " 7   disease     542 non-null    object\n",
      " 8   rest_bp     542 non-null    object\n",
      " 9   age         542 non-null    object\n",
      " 10  max_hr      542 non-null    object\n",
      " 11  slope       542 non-null    object\n",
      " 12  chest_pain  542 non-null    object\n",
      " 13  fbs         542 non-null    object\n",
      "dtypes: object(14)\n",
      "memory usage: 59.4+ KB\n"
     ]
    }
   ],
   "source": [
    "data_raw.info()"
   ]
  },
  {
   "cell_type": "code",
   "execution_count": 220,
   "metadata": {},
   "outputs": [
    {
     "data": {
      "text/html": [
       "<div>\n",
       "<style scoped>\n",
       "    .dataframe tbody tr th:only-of-type {\n",
       "        vertical-align: middle;\n",
       "    }\n",
       "\n",
       "    .dataframe tbody tr th {\n",
       "        vertical-align: top;\n",
       "    }\n",
       "\n",
       "    .dataframe thead th {\n",
       "        text-align: right;\n",
       "    }\n",
       "</style>\n",
       "<table border=\"1\" class=\"dataframe\">\n",
       "  <thead>\n",
       "    <tr style=\"text-align: right;\">\n",
       "      <th></th>\n",
       "      <th>ca</th>\n",
       "      <th>exang</th>\n",
       "      <th>old_peak</th>\n",
       "      <th>sex</th>\n",
       "      <th>chol</th>\n",
       "      <th>rest_ecg</th>\n",
       "      <th>thal</th>\n",
       "      <th>disease</th>\n",
       "      <th>rest_bp</th>\n",
       "      <th>age</th>\n",
       "      <th>max_hr</th>\n",
       "      <th>slope</th>\n",
       "      <th>chest_pain</th>\n",
       "      <th>fbs</th>\n",
       "    </tr>\n",
       "  </thead>\n",
       "  <tbody>\n",
       "    <tr>\n",
       "      <th>0</th>\n",
       "      <td>2.0</td>\n",
       "      <td>1</td>\n",
       "      <td>2.8</td>\n",
       "      <td>Female</td>\n",
       "      <td>225</td>\n",
       "      <td>left ventricular hypertrophy</td>\n",
       "      <td>fixed</td>\n",
       "      <td>1</td>\n",
       "      <td>170</td>\n",
       "      <td>58</td>\n",
       "      <td>146</td>\n",
       "      <td>2</td>\n",
       "      <td>asymptomatic</td>\n",
       "      <td>1.0</td>\n",
       "    </tr>\n",
       "    <tr>\n",
       "      <th>1</th>\n",
       "      <td>0.0</td>\n",
       "      <td>0</td>\n",
       "      <td>0.0</td>\n",
       "      <td>Male</td>\n",
       "      <td>182</td>\n",
       "      <td>left ventricular hypertrophy</td>\n",
       "      <td>normal</td>\n",
       "      <td>0</td>\n",
       "      <td>118</td>\n",
       "      <td>34</td>\n",
       "      <td>174</td>\n",
       "      <td>1</td>\n",
       "      <td>typical</td>\n",
       "      <td>0.0</td>\n",
       "    </tr>\n",
       "    <tr>\n",
       "      <th>2</th>\n",
       "      <td>2.0</td>\n",
       "      <td>1</td>\n",
       "      <td>4.0</td>\n",
       "      <td>Male</td>\n",
       "      <td>187</td>\n",
       "      <td>left ventricular hypertrophy</td>\n",
       "      <td>reversable</td>\n",
       "      <td>1</td>\n",
       "      <td>140</td>\n",
       "      <td>63</td>\n",
       "      <td>144</td>\n",
       "      <td>1</td>\n",
       "      <td>asymptomatic</td>\n",
       "      <td>0.0</td>\n",
       "    </tr>\n",
       "    <tr>\n",
       "      <th>3</th>\n",
       "      <td>0.0</td>\n",
       "      <td>0</td>\n",
       "      <td>0.0</td>\n",
       "      <td>Male</td>\n",
       "      <td>321</td>\n",
       "      <td>left ventricular hypertrophy</td>\n",
       "      <td>normal</td>\n",
       "      <td>0</td>\n",
       "      <td>140</td>\n",
       "      <td>39</td>\n",
       "      <td>182</td>\n",
       "      <td>1</td>\n",
       "      <td>nonanginal</td>\n",
       "      <td>0.0</td>\n",
       "    </tr>\n",
       "    <tr>\n",
       "      <th>4</th>\n",
       "      <td>0.0</td>\n",
       "      <td>0</td>\n",
       "      <td>0.0</td>\n",
       "      <td>Female</td>\n",
       "      <td>254</td>\n",
       "      <td>left ventricular hypertrophy</td>\n",
       "      <td>normal</td>\n",
       "      <td>0</td>\n",
       "      <td>110</td>\n",
       "      <td>50</td>\n",
       "      <td>159</td>\n",
       "      <td>1</td>\n",
       "      <td>asymptomatic</td>\n",
       "      <td>0.0</td>\n",
       "    </tr>\n",
       "    <tr>\n",
       "      <th>...</th>\n",
       "      <td>...</td>\n",
       "      <td>...</td>\n",
       "      <td>...</td>\n",
       "      <td>...</td>\n",
       "      <td>...</td>\n",
       "      <td>...</td>\n",
       "      <td>...</td>\n",
       "      <td>...</td>\n",
       "      <td>...</td>\n",
       "      <td>...</td>\n",
       "      <td>...</td>\n",
       "      <td>...</td>\n",
       "      <td>...</td>\n",
       "      <td>...</td>\n",
       "    </tr>\n",
       "    <tr>\n",
       "      <th>537</th>\n",
       "      <td>0.0</td>\n",
       "      <td>0</td>\n",
       "      <td>0.0</td>\n",
       "      <td>Male</td>\n",
       "      <td>257</td>\n",
       "      <td>left ventricular hypertrophy</td>\n",
       "      <td>normal</td>\n",
       "      <td>0</td>\n",
       "      <td>138</td>\n",
       "      <td>47</td>\n",
       "      <td>156</td>\n",
       "      <td>1</td>\n",
       "      <td>nonanginal</td>\n",
       "      <td>0.0</td>\n",
       "    </tr>\n",
       "    <tr>\n",
       "      <th>538</th>\n",
       "      <td>0.0</td>\n",
       "      <td>0</td>\n",
       "      <td>0.0</td>\n",
       "      <td>Female</td>\n",
       "      <td>340</td>\n",
       "      <td>normal</td>\n",
       "      <td>normal</td>\n",
       "      <td>0</td>\n",
       "      <td>120</td>\n",
       "      <td>58</td>\n",
       "      <td>172</td>\n",
       "      <td>1</td>\n",
       "      <td>nonanginal</td>\n",
       "      <td>0.0</td>\n",
       "    </tr>\n",
       "    <tr>\n",
       "      <th>539</th>\n",
       "      <td>0.0</td>\n",
       "      <td>0</td>\n",
       "      <td>4.2</td>\n",
       "      <td>Male</td>\n",
       "      <td>270</td>\n",
       "      <td>left ventricular hypertrophy</td>\n",
       "      <td>reversable</td>\n",
       "      <td>0</td>\n",
       "      <td>178</td>\n",
       "      <td>59</td>\n",
       "      <td>145</td>\n",
       "      <td>3</td>\n",
       "      <td>typical</td>\n",
       "      <td>0.0</td>\n",
       "    </tr>\n",
       "    <tr>\n",
       "      <th>540</th>\n",
       "      <td>0.0</td>\n",
       "      <td>1</td>\n",
       "      <td>2.5</td>\n",
       "      <td>Male</td>\n",
       "      <td>177</td>\n",
       "      <td>left ventricular hypertrophy</td>\n",
       "      <td>reversable</td>\n",
       "      <td>1</td>\n",
       "      <td>120</td>\n",
       "      <td>43</td>\n",
       "      <td>120</td>\n",
       "      <td>2</td>\n",
       "      <td>asymptomatic</td>\n",
       "      <td>0.0</td>\n",
       "    </tr>\n",
       "    <tr>\n",
       "      <th>541</th>\n",
       "      <td>1.0</td>\n",
       "      <td>0</td>\n",
       "      <td>0.6</td>\n",
       "      <td>Male</td>\n",
       "      <td>233</td>\n",
       "      <td>normal</td>\n",
       "      <td>reversable</td>\n",
       "      <td>1</td>\n",
       "      <td>140</td>\n",
       "      <td>50</td>\n",
       "      <td>163</td>\n",
       "      <td>2</td>\n",
       "      <td>nonanginal</td>\n",
       "      <td>0.0</td>\n",
       "    </tr>\n",
       "  </tbody>\n",
       "</table>\n",
       "<p>542 rows × 14 columns</p>\n",
       "</div>"
      ],
      "text/plain": [
       "      ca exang old_peak     sex chol                       rest_ecg  \\\n",
       "0    2.0     1      2.8  Female  225  left ventricular hypertrophy    \n",
       "1    0.0     0      0.0    Male  182  left ventricular hypertrophy    \n",
       "2    2.0     1      4.0    Male  187  left ventricular hypertrophy    \n",
       "3    0.0     0      0.0    Male  321  left ventricular hypertrophy    \n",
       "4    0.0     0      0.0  Female  254  left ventricular hypertrophy    \n",
       "..   ...   ...      ...     ...  ...                            ...   \n",
       "537  0.0     0      0.0    Male  257  left ventricular hypertrophy    \n",
       "538  0.0     0      0.0  Female  340                         normal   \n",
       "539  0.0     0      4.2    Male  270  left ventricular hypertrophy    \n",
       "540  0.0     1      2.5    Male  177  left ventricular hypertrophy    \n",
       "541  1.0     0      0.6    Male  233                         normal   \n",
       "\n",
       "           thal disease rest_bp age max_hr slope    chest_pain  fbs  \n",
       "0         fixed       1     170  58    146     2  asymptomatic  1.0  \n",
       "1        normal       0     118  34    174     1       typical  0.0  \n",
       "2    reversable       1     140  63    144     1  asymptomatic  0.0  \n",
       "3        normal       0     140  39    182     1    nonanginal  0.0  \n",
       "4        normal       0     110  50    159     1  asymptomatic  0.0  \n",
       "..          ...     ...     ...  ..    ...   ...           ...  ...  \n",
       "537      normal       0     138  47    156     1    nonanginal  0.0  \n",
       "538      normal       0     120  58    172     1    nonanginal  0.0  \n",
       "539  reversable       0     178  59    145     3       typical  0.0  \n",
       "540  reversable       1     120  43    120     2  asymptomatic  0.0  \n",
       "541  reversable       1     140  50    163     2    nonanginal  0.0  \n",
       "\n",
       "[542 rows x 14 columns]"
      ]
     },
     "execution_count": 220,
     "metadata": {},
     "output_type": "execute_result"
    }
   ],
   "source": [
    "data_raw"
   ]
  },
  {
   "cell_type": "markdown",
   "metadata": {},
   "source": [
    "Cambio de tipos de datos"
   ]
  },
  {
   "cell_type": "code",
   "execution_count": 221,
   "metadata": {},
   "outputs": [],
   "source": [
    "data_raw[['ca', 'old_peak', 'chol', 'rest_bp', 'age', 'max_hr', ]] = data_raw[['ca', 'old_peak', 'chol', 'rest_bp', 'age', 'max_hr', ]].astype(float)\n",
    "data_raw[['ca', 'old_peak', 'chol', 'rest_bp', 'age', 'max_hr', ]] = data_raw[['ca', 'old_peak', 'chol', 'rest_bp', 'age', 'max_hr', ]].astype('int64')\n",
    "data_raw[['exang', 'slope']] = data_raw[['exang', 'slope']].astype('category')"
   ]
  },
  {
   "cell_type": "code",
   "execution_count": 222,
   "metadata": {},
   "outputs": [
    {
     "name": "stdout",
     "output_type": "stream",
     "text": [
      "<class 'pandas.core.frame.DataFrame'>\n",
      "RangeIndex: 542 entries, 0 to 541\n",
      "Data columns (total 14 columns):\n",
      " #   Column      Non-Null Count  Dtype   \n",
      "---  ------      --------------  -----   \n",
      " 0   ca          542 non-null    int64   \n",
      " 1   exang       542 non-null    category\n",
      " 2   old_peak    542 non-null    int64   \n",
      " 3   sex         542 non-null    object  \n",
      " 4   chol        542 non-null    int64   \n",
      " 5   rest_ecg    542 non-null    object  \n",
      " 6   thal        542 non-null    object  \n",
      " 7   disease     542 non-null    object  \n",
      " 8   rest_bp     542 non-null    int64   \n",
      " 9   age         542 non-null    int64   \n",
      " 10  max_hr      542 non-null    int64   \n",
      " 11  slope       542 non-null    category\n",
      " 12  chest_pain  542 non-null    object  \n",
      " 13  fbs         542 non-null    object  \n",
      "dtypes: category(2), int64(6), object(6)\n",
      "memory usage: 52.2+ KB\n"
     ]
    }
   ],
   "source": [
    "data_raw.info()"
   ]
  },
  {
   "cell_type": "markdown",
   "metadata": {},
   "source": [
    "## Dividir el dataset en Training set y Test set\n",
    "\n",
    "Este paso debe ser al inicio de los proyectos,  Se deben realizar todas las transformaciones, preparación de datos y limpieza de los datos, en el train set y en la evaluacion se deben aplicarl al test set y a los datos nuevos que lleguen al sistema. Esta division inicial se hace para evitar data leakage de los datos de test a los datos de train, por ejemplo en las imputaciones.\n",
    "\n",
    "Por este motivo se realizara en esta parte.\n",
    "\n",
    "Division de los datos de entrenamiento (Train set) y de Evaluacion (test - set), las divisiones utilizadas son\n",
    "\n",
    "- 80% (train) , 20%(test)\n",
    "- 70% (train) , 30%(test)\n",
    "\n",
    "El **Train set** se hace para seleccion de Modelos y el **Test-set** solamente para la evaluacion Final"
   ]
  },
  {
   "cell_type": "markdown",
   "metadata": {},
   "source": []
  },
  {
   "cell_type": "markdown",
   "metadata": {
    "colab_type": "text",
    "id": "5gnmm4vdHJoV"
   },
   "source": [
    "# Descripcion  y Limpieza de los datos"
   ]
  },
  {
   "cell_type": "code",
   "execution_count": null,
   "metadata": {
    "colab": {},
    "colab_type": "code",
    "id": "ZYzna68bHJoW"
   },
   "outputs": [],
   "source": []
  },
  {
   "cell_type": "markdown",
   "metadata": {
    "colab_type": "text",
    "id": "AFSKQY4Amzwv"
   },
   "source": [
    "## Identificacion de Variables\n",
    "- Variables de entrada y de salida\n",
    "- Tipo de Variables (categoricas o Numericas)\n",
    "- Tipo de datos (int, float, string, factor, boolean, ...)"
   ]
  },
  {
   "cell_type": "code",
   "execution_count": null,
   "metadata": {
    "colab": {},
    "colab_type": "code",
    "id": "bnXkopIFHJob"
   },
   "outputs": [],
   "source": []
  },
  {
   "cell_type": "markdown",
   "metadata": {},
   "source": [
    "## Analisis General Univariable y Bivariable \n",
    "Analisis de cada una de las variables para lograr calidad de datos en cada columna\n",
    "- **Correccion del tipo de dato (numericas, categoricas, string) de cada columna (optimizar memoria)**\n",
    "- Deteccion de numero de datos faltantes\n",
    "- Deteccion de duplicados"
   ]
  },
  {
   "cell_type": "markdown",
   "metadata": {
    "colab_type": "text",
    "id": "k5CEar_Cnw2x"
   },
   "source": [
    "## Eliminar columnas de datos Innecesarios\n",
    "\n",
    "Analizar el problema a resolver e indentificar cuales variables no brindan informacion y borrarlas."
   ]
  },
  {
   "cell_type": "code",
   "execution_count": null,
   "metadata": {
    "colab": {},
    "colab_type": "code",
    "id": "bxoNbnANoJt8"
   },
   "outputs": [],
   "source": []
  },
  {
   "cell_type": "markdown",
   "metadata": {
    "colab_type": "text",
    "id": "que3vMzKnhwJ"
   },
   "source": [
    "## Remover Datos Duplicados Exactos\n",
    "\n",
    "Hacer al principio luego de cargar los datos y cada vez luego de Hacer imputaciones, eliminacion de columnas o registros."
   ]
  },
  {
   "cell_type": "code",
   "execution_count": null,
   "metadata": {
    "colab": {},
    "colab_type": "code",
    "id": "UegcIxItnhwM"
   },
   "outputs": [],
   "source": []
  },
  {
   "cell_type": "markdown",
   "metadata": {
    "colab_type": "text",
    "id": "2LmnrQtbHJox"
   },
   "source": [
    "## Procesamiento de Datos Faltantes\n",
    "Las opciones que se pueden usar dependiendo del analisis de los datos son:\n",
    "### Borrar Filas\n",
    "- Borrar las filas que les falten todos los datos\n",
    "- Borrar Solo las filas que les falta las variables mas importantes o la salida"
   ]
  },
  {
   "cell_type": "code",
   "execution_count": null,
   "metadata": {
    "colab": {},
    "colab_type": "code",
    "id": "zFwqgwOhHJox"
   },
   "outputs": [],
   "source": []
  },
  {
   "cell_type": "markdown",
   "metadata": {
    "colab_type": "text",
    "id": "1S_iRK8rHJo0"
   },
   "source": [
    "### Reemplazar datos faltantes con la Media/ Moda/ Mediana (Mean/ Mode/ Median Imputation)\n",
    "De necesitarse hacer imputacion se debe verificar los outliers para no cometer errores en la imputacion"
   ]
  },
  {
   "cell_type": "code",
   "execution_count": null,
   "metadata": {
    "colab": {},
    "colab_type": "code",
    "id": "kIIWI1KCHJo0"
   },
   "outputs": [],
   "source": []
  },
  {
   "cell_type": "markdown",
   "metadata": {
    "colab_type": "text",
    "id": "68OZ-hJKHJo8"
   },
   "source": [
    "## Remover Datos Duplicados Exactos\n",
    "\n",
    "Hacer al principio luego de cargar los datos y cada vez luego de Hacer imputaciones, eliminacion de columnas o registros."
   ]
  },
  {
   "cell_type": "code",
   "execution_count": null,
   "metadata": {
    "colab": {},
    "colab_type": "code",
    "id": "6cCf27oSHJpB"
   },
   "outputs": [],
   "source": []
  },
  {
   "cell_type": "markdown",
   "metadata": {
    "colab_type": "text",
    "id": "GnkcN0goHJod"
   },
   "source": [
    "## Analisis Univariable\n",
    "\n",
    "Estadistico Descriptico y Analisis"
   ]
  },
  {
   "cell_type": "markdown",
   "metadata": {
    "colab_type": "text",
    "id": "LEvH4-LGHJod"
   },
   "source": [
    "### Variables Numericas\n",
    "\n",
    "Tendencia Central  | Medida de Dispersión  |  Visualizacion\n",
    " :---: | :---: | :---:\n",
    "Media   | Rango      |  Histogramas\n",
    "Mediana | Cuartiles  |  Boxplots\n",
    "Moda    | Rango inter cuartil (IQR)|  \n",
    "Minimo  | Varianza   |  \n",
    "Maximo  | Desviacion Estandard | \n",
    "   .    | Skewness   |  \n",
    " .      | Kurtosis   |  "
   ]
  },
  {
   "cell_type": "code",
   "execution_count": null,
   "metadata": {
    "colab": {},
    "colab_type": "code",
    "id": "CDTBsGi0HJoe"
   },
   "outputs": [],
   "source": []
  },
  {
   "cell_type": "markdown",
   "metadata": {
    "colab_type": "text",
    "id": "mXQHmtMbHJoh"
   },
   "source": [
    "### Variables Categoricas\n",
    "- Numero de elementos por categoria\n",
    "- Porcentaje de elementos por categoria\n",
    "- Graficos de barras"
   ]
  },
  {
   "cell_type": "code",
   "execution_count": null,
   "metadata": {
    "colab": {},
    "colab_type": "code",
    "id": "hPY0sHqNHJoi"
   },
   "outputs": [],
   "source": []
  },
  {
   "cell_type": "markdown",
   "metadata": {
    "colab_type": "text",
    "id": "jmf_f9TOHJok"
   },
   "source": [
    "## Analisis Bivariable\n",
    "Estadistico Descriptico y Analisis"
   ]
  },
  {
   "cell_type": "markdown",
   "metadata": {
    "colab_type": "text",
    "id": "3aVUkwJVHJom"
   },
   "source": [
    "### Numericas vs Numericas\n",
    "- Scatter Plot\n",
    "- Heatmap\n",
    "- Correlacion"
   ]
  },
  {
   "cell_type": "code",
   "execution_count": null,
   "metadata": {
    "colab": {},
    "colab_type": "code",
    "id": "067r3JdGHJon"
   },
   "outputs": [],
   "source": []
  },
  {
   "cell_type": "markdown",
   "metadata": {
    "colab_type": "text",
    "id": "9SfZHh6oHJor"
   },
   "source": [
    "### Categoricas vs Categoricas\n",
    "\n",
    "- Two-way table\n",
    "- Graficas de Barras apiladas\n",
    "- Chi-Square Test"
   ]
  },
  {
   "cell_type": "code",
   "execution_count": null,
   "metadata": {
    "colab": {},
    "colab_type": "code",
    "id": "T544jyPsHJos"
   },
   "outputs": [],
   "source": []
  },
  {
   "cell_type": "markdown",
   "metadata": {
    "colab_type": "text",
    "id": "oQKXaEcqHJou"
   },
   "source": [
    "### Categoricas vs Numericas\n",
    "- Z-Test/ T-Test\n",
    "- ANOVA"
   ]
  },
  {
   "cell_type": "code",
   "execution_count": null,
   "metadata": {
    "colab": {},
    "colab_type": "code",
    "id": "F8coJJA6HJov"
   },
   "outputs": [],
   "source": []
  },
  {
   "cell_type": "markdown",
   "metadata": {
    "colab_type": "text",
    "id": "r2X6dK04HJpD"
   },
   "source": [
    "## Procesamiento de Outliers\n",
    "### Deteccion de Outliers (Univariables y Bi variables)\n",
    "- Boxplots\n",
    "- Scatter Plots\n",
    "- Histogramas"
   ]
  },
  {
   "cell_type": "code",
   "execution_count": null,
   "metadata": {
    "colab": {},
    "colab_type": "code",
    "id": "bc5mYM_qHJpE"
   },
   "outputs": [],
   "source": []
  },
  {
   "cell_type": "markdown",
   "metadata": {
    "colab_type": "text",
    "id": "aiDgzB32HJpI"
   },
   "source": [
    "### Remover Outliers\n",
    "las opciones son:\n",
    "- Borrar los datos atipicos (outliers) \n",
    "- Transformar la variable (Ej: escalar, cambiar a esccala Log o a Escala lineal)\n",
    "- Reemplazar los outliers conla Media/ Moda/ Mediana (Mean/ Mode/ Median Imputation)\n",
    "- Reemplazar valores con modelo predictivo\n",
    "- Separarlos y analizarlos aparte (si son muchos outliers)\n"
   ]
  },
  {
   "cell_type": "code",
   "execution_count": null,
   "metadata": {
    "colab": {},
    "colab_type": "code",
    "id": "DsDqeIPbHJpI"
   },
   "outputs": [],
   "source": []
  },
  {
   "cell_type": "markdown",
   "metadata": {
    "colab_type": "text",
    "id": "r2X6dK04HJpD"
   },
   "source": [
    "## Procesamiento de Outliers\n",
    "### Deteccion de Outliers (Univariables y Bi variables)\n",
    "- Boxplots\n",
    "- Scatter Plots\n",
    "- Histogramas"
   ]
  },
  {
   "cell_type": "code",
   "execution_count": null,
   "metadata": {
    "colab": {},
    "colab_type": "code",
    "id": "bc5mYM_qHJpE"
   },
   "outputs": [],
   "source": []
  },
  {
   "cell_type": "markdown",
   "metadata": {
    "colab_type": "text",
    "id": "aiDgzB32HJpI"
   },
   "source": [
    "### Remover Outliers\n",
    "las opciones son:\n",
    "- Borrar los datos atipicos (outliers) \n",
    "- Transformar la variable (Ej: escalar, cambiar a esccala Log o a Escala lineal)\n",
    "- Reemplazar los outliers conla Media/ Moda/ Mediana (Mean/ Mode/ Median Imputation)\n",
    "- Reemplazar valores con modelo predictivo\n",
    "- Separarlos y analizarlos aparte (si son muchos outliers)\n"
   ]
  },
  {
   "cell_type": "code",
   "execution_count": null,
   "metadata": {
    "colab": {},
    "colab_type": "code",
    "id": "DsDqeIPbHJpI"
   },
   "outputs": [],
   "source": []
  },
  {
   "cell_type": "markdown",
   "metadata": {
    "colab_type": "text",
    "id": "s4Fn2YIvHJpL"
   },
   "source": [
    "## Feature Engineering \n",
    "### Transformacion de Variables\n",
    "**Se usa cuando es necesario:**\n",
    "- Cambiar la escala las variables (Normalizar, escalamiento, etc), esto no cambia la forma de la distribucion de los datos\n",
    "- Cambiar relaciones No ineales en Lineales (Ej: cambiar la escala Logaritmica a lineal)\n",
    "- Usar una la distribución simétrica en vez de una distribución sesgada o asimetrica, Para una la distribución sesgada a la derecha, tomamos la raíz cuadrada / cúbica o el logaritmo de la variable, y para la desviación a la izquierda, tomamos el cuadrado / cubo o exponencial de las variables.\n",
    "- Cambair variables continuas a categoricas\n",
    "\n",
    "Algunas transformaciones son:"
   ]
  },
  {
   "cell_type": "markdown",
   "metadata": {
    "colab_type": "text",
    "id": "he4lxsEUHJpM"
   },
   "source": [
    "#### Normalizacion"
   ]
  },
  {
   "cell_type": "code",
   "execution_count": null,
   "metadata": {
    "colab": {},
    "colab_type": "code",
    "id": "7giKrRY8HJpM"
   },
   "outputs": [],
   "source": []
  },
  {
   "cell_type": "markdown",
   "metadata": {
    "colab_type": "text",
    "id": "h0FKIrJHHJpO"
   },
   "source": [
    "#### Escalamiento"
   ]
  },
  {
   "cell_type": "code",
   "execution_count": null,
   "metadata": {
    "colab": {},
    "colab_type": "code",
    "id": "hzGcwGaWHJpP"
   },
   "outputs": [],
   "source": []
  },
  {
   "cell_type": "markdown",
   "metadata": {
    "colab_type": "text",
    "id": "jYPdefrhHJpS"
   },
   "source": [
    "#### Logaritmica"
   ]
  },
  {
   "cell_type": "code",
   "execution_count": null,
   "metadata": {
    "colab": {},
    "colab_type": "code",
    "id": "wU-lW1AQHJpS"
   },
   "outputs": [],
   "source": []
  },
  {
   "cell_type": "markdown",
   "metadata": {
    "colab_type": "text",
    "id": "zUundEM6HJpT"
   },
   "source": [
    "#### raíz cuadrada / cúbica"
   ]
  },
  {
   "cell_type": "code",
   "execution_count": null,
   "metadata": {
    "colab": {},
    "colab_type": "code",
    "id": "5woteVvBHJpU"
   },
   "outputs": [],
   "source": []
  },
  {
   "cell_type": "markdown",
   "metadata": {
    "colab_type": "text",
    "id": "2GNrgJzHHJpW"
   },
   "source": [
    "#### Binning , Cambios de Numericas a Categoricas"
   ]
  },
  {
   "cell_type": "code",
   "execution_count": null,
   "metadata": {
    "colab": {},
    "colab_type": "code",
    "id": "cS5y1OPSHJpW"
   },
   "outputs": [],
   "source": []
  },
  {
   "cell_type": "markdown",
   "metadata": {
    "colab_type": "text",
    "id": "I6PpnSEDHJpY"
   },
   "source": [
    "## Analisis Univariable y Bivariable Final\n",
    "Luego de Realizar:\n",
    "- Tratamiento de datos Nulos\n",
    "- Tratamiento de outliers\n",
    "- Transformacion de Variables\n",
    "\n",
    "Es necesario realizar nuevamente analisis univarible y bivariable para identificar como cambiaron nuestros datos y para verificar si estan listos para usarse para crear un modelo."
   ]
  },
  {
   "cell_type": "markdown",
   "metadata": {
    "colab_type": "text",
    "id": "uRwep7LjHJpZ"
   },
   "source": [
    "### Creacion de Variables\n",
    "pueden ser:\n",
    "#### Crear Variables derivadas de Otras"
   ]
  },
  {
   "cell_type": "code",
   "execution_count": null,
   "metadata": {
    "colab": {},
    "colab_type": "code",
    "id": "ywBVDG8vHJpZ"
   },
   "outputs": [],
   "source": []
  },
  {
   "cell_type": "markdown",
   "metadata": {
    "colab_type": "text",
    "id": "JCcM4XFbHJpd"
   },
   "source": [
    "#### Crear Variables de Categorico a Numerico\n",
    "Puede ser\n",
    "- Definir un numero a cada categoria\n",
    "- One hot encoder (dummy columns)"
   ]
  },
  {
   "cell_type": "markdown",
   "metadata": {
    "colab_type": "text",
    "id": "ubILpEdWHJpi"
   },
   "source": [
    "## Reduccion de Dimensionalidad y Seleccion de Variables (PCA)\n",
    "\n",
    "De ser necesario si tiene muchas variables o sospecha que aun tiene variables que no aportan mucho"
   ]
  },
  {
   "cell_type": "code",
   "execution_count": null,
   "metadata": {
    "colab": {},
    "colab_type": "code",
    "id": "S2JIcRk-HJpi"
   },
   "outputs": [],
   "source": []
  },
  {
   "cell_type": "markdown",
   "metadata": {
    "colab_type": "text",
    "id": "oEu3sW98HJpk"
   },
   "source": []
  },
  {
   "cell_type": "code",
   "execution_count": null,
   "metadata": {
    "colab": {},
    "colab_type": "code",
    "id": "lw3hG0rCHJpl"
   },
   "outputs": [],
   "source": []
  },
  {
   "cell_type": "markdown",
   "metadata": {},
   "source": [
    "# MODELAMIENTO DE LOS DATOS (MACHINE LEARNING)\n"
   ]
  },
  {
   "cell_type": "code",
   "execution_count": null,
   "metadata": {},
   "outputs": [],
   "source": []
  },
  {
   "cell_type": "markdown",
   "metadata": {},
   "source": []
  },
  {
   "cell_type": "code",
   "execution_count": null,
   "metadata": {},
   "outputs": [],
   "source": []
  },
  {
   "cell_type": "markdown",
   "metadata": {},
   "source": [
    "# Validacion y Evaluacion Cruzada (k-fold Cross Validation)\n",
    "\n",
    "Se hace seleccion de los mejores modelos usando el Training Set y k-fold Cross Validation"
   ]
  },
  {
   "cell_type": "code",
   "execution_count": null,
   "metadata": {},
   "outputs": [],
   "source": []
  },
  {
   "cell_type": "markdown",
   "metadata": {},
   "source": [
    "# Optimizacion de Hiper parametros (Hyper Parameter optimization)\n",
    "\n",
    "Se seleccionan solo los mejores modelos para realizar el ajuste de hiperparametros, ya que tiene una carga computacional alta.\n",
    "\n",
    "Al final se obtienen los parametros del mejor modelo"
   ]
  },
  {
   "cell_type": "code",
   "execution_count": null,
   "metadata": {},
   "outputs": [],
   "source": []
  },
  {
   "cell_type": "markdown",
   "metadata": {},
   "source": [
    "# Evaluacion final del modelo con el Test set\n",
    "\n",
    "Tomar los parametros obtenidos en el paso anterior, se crea el modelo con esos pararmetros y se entrena el modelo con todos los datos del **Train -set**\n",
    "\n",
    "Finalmente se realiza la evaluacion (segun su problema si es de regresion o de clasificacion) usando el **Test - set** para definir si el modelo obtenido esta bien. Compare los resultados con el **Train -set** vs los resultados con el **Test - set**"
   ]
  },
  {
   "cell_type": "code",
   "execution_count": null,
   "metadata": {},
   "outputs": [],
   "source": []
  },
  {
   "cell_type": "markdown",
   "metadata": {},
   "source": [
    "# Implementacion del Modelo (Deploying)\n",
    "Con el análisis básico y el ajuste hecho, comienza el trabajo real (ingeniería).\n",
    "\n",
    "El último paso para poner en produccion el modelo de prediccion sera:\n",
    "1. Entrenarlo en todo el conjunto de datos nuevamente, para hacer un uso completo de todos los datos disponibles. \n",
    "2. Usar los mejores parámetros encontrados mediante la validación cruzada, por supuesto. Esto es muy similar a lo que hicimos al principio, pero esta vez teniendo una idea de su comportamiento y estabilidad. La evaluación se realizó con honestidad, en divisiones distintas de entrenamiento / prueba.\n",
    "\n",
    "El predictor final se puede serializar y grabar en el disco, de modo que la próxima vez que lo usemos, podemos omitir todo el entrenamiento y usar el modelo capacitado directamente:"
   ]
  },
  {
   "cell_type": "code",
   "execution_count": 198,
   "metadata": {},
   "outputs": [],
   "source": [
    "#import pickle # Esta es una libreria de serializacion nativa de python, puede tener problemas de seguridad\n",
    "from joblib import dump # libreria de serializacion\n",
    "\n",
    "# garbar el modelo en un archivo\n",
    "#dump(Modelo_final, 'Nombre_Archivo_Modelo.joblib')"
   ]
  },
  {
   "cell_type": "code",
   "execution_count": null,
   "metadata": {},
   "outputs": [],
   "source": []
  },
  {
   "cell_type": "markdown",
   "metadata": {},
   "source": [
    "# Comunicacion de Resultados (Data Story Telling)"
   ]
  },
  {
   "cell_type": "code",
   "execution_count": null,
   "metadata": {},
   "outputs": [],
   "source": []
  },
  {
   "cell_type": "markdown",
   "metadata": {},
   "source": [
    "# Conclusiones"
   ]
  },
  {
   "cell_type": "code",
   "execution_count": null,
   "metadata": {},
   "outputs": [],
   "source": []
  },
  {
   "cell_type": "markdown",
   "metadata": {},
   "source": [
    "# Ayudas Y Referencias\n",
    "\n",
    "- https://medium.com/@joserzapata/paso-a-paso-en-un-proyecto-machine-learning-bcdd0939d387\n",
    "- [Proyecto de Principio a Final sobre readmision de pacientes con Diabetes](https://github.com/JoseRZapata/Readmission-ML-Project)\n",
    "\n",
    "- [a-complete-machine-learning-walk-through-in-python-part-one](https://towardsdatascience.com/a-complete-machine-learning-walk-through-in-python-part-one-c62152f39420)\n",
    "\n",
    "\n",
    "- [a-starter-pack-to-exploratory-data-analysis-with-python-pandas-seaborn-and-scikit-learn](https://towardsdatascience.com/a-starter-pack-to-exploratory-data-analysis-with-python-pandas-seaborn-and-scikit-learn-a77889485baf#249d)\n",
    "\n",
    "- [a-data-science-for-good-machine-learning-project-walk-through-in-python-part-one](https://towardsdatascience.com/a-data-science-for-good-machine-learning-project-walk-through-in-python-part-one-1977dd701dbc)\n",
    "\n",
    "- [Ejemplos de Kaggle](https://www.kaggle.com/kernels?sortBy=hotness&group=everyone&pageSize=20&language=Python&kernelType=Notebook)\n",
    "\n",
    "- [END to END ML from data colletion to deployment](https://medium.com/datadriveninvestor/end-to-end-machine-learning-from-data-collection-to-deployment-ce74f51ca203)"
   ]
  },
  {
   "cell_type": "markdown",
   "metadata": {},
   "source": [
    "Docente: [Jose R. Zapata](https://joserzapata.github.io)\n",
    "- https://joserzapata.github.io\n",
    "- https://twitter.com/joserzapata\n",
    "- https://www.linkedin.com/in/jose-ricardo-zapata-gonzalez/   "
   ]
  }
 ],
 "metadata": {
  "colab": {
   "collapsed_sections": [
    "mXQHmtMbHJoh",
    "3aVUkwJVHJom",
    "9SfZHh6oHJor",
    "1S_iRK8rHJo0",
    "Ey5Lk8evHJo3",
    "0Y0UV-GVHJo6",
    "he4lxsEUHJpM",
    "h0FKIrJHHJpO",
    "jYPdefrhHJpS",
    "zUundEM6HJpT",
    "2GNrgJzHHJpW",
    "uRwep7LjHJpZ",
    "JCcM4XFbHJpd"
   ],
   "name": "Trabajo_Preparacion_Datos_JoseR_Zapata.ipynb",
   "provenance": []
  },
  "kernelspec": {
   "display_name": "Python 3.8.10 ('maestria')",
   "language": "python",
   "name": "python3"
  },
  "language_info": {
   "codemirror_mode": {
    "name": "ipython",
    "version": 3
   },
   "file_extension": ".py",
   "mimetype": "text/x-python",
   "name": "python",
   "nbconvert_exporter": "python",
   "pygments_lexer": "ipython3",
   "version": "3.8.10"
  },
  "nbTranslate": {
   "displayLangs": [
    "es",
    "en"
   ],
   "hotkey": "alt-t",
   "langInMainMenu": true,
   "sourceLang": "en",
   "targetLang": "es",
   "useGoogleTranslate": true
  },
  "toc": {
   "base_numbering": 1,
   "nav_menu": {},
   "number_sections": true,
   "sideBar": true,
   "skip_h1_title": false,
   "title_cell": "Contenido",
   "title_sidebar": "Contenido",
   "toc_cell": true,
   "toc_position": {},
   "toc_section_display": true,
   "toc_window_display": false
  },
  "varInspector": {
   "cols": {
    "lenName": 16,
    "lenType": 16,
    "lenVar": 40
   },
   "kernels_config": {
    "python": {
     "delete_cmd_postfix": "",
     "delete_cmd_prefix": "del ",
     "library": "var_list.py",
     "varRefreshCmd": "print(var_dic_list())"
    },
    "r": {
     "delete_cmd_postfix": ") ",
     "delete_cmd_prefix": "rm(",
     "library": "var_list.r",
     "varRefreshCmd": "cat(var_dic_list()) "
    }
   },
   "types_to_exclude": [
    "module",
    "function",
    "builtin_function_or_method",
    "instance",
    "_Feature"
   ],
   "window_display": false
  },
  "vscode": {
   "interpreter": {
    "hash": "26f4ceb74a372f12a7d80d3f7e81be0d1ef71d306fac820d071a0cfbc111e366"
   }
  }
 },
 "nbformat": 4,
 "nbformat_minor": 4
}
